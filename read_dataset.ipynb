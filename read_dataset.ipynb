{
 "cells": [
  {
   "cell_type": "markdown",
   "metadata": {},
   "source": [
    "### Read Korean Ballad Lyrics Dataset"
   ]
  },
  {
   "cell_type": "code",
   "execution_count": 1,
   "metadata": {},
   "outputs": [],
   "source": [
    "import pandas as pd\n",
    "import numpy as np"
   ]
  },
  {
   "cell_type": "code",
   "execution_count": 25,
   "metadata": {},
   "outputs": [],
   "source": [
    "import os\n",
    "# designate root path for the data\n",
    "DATA_ROOT_PATH = \"./data\"\n",
    "\n",
    "# designate path for each dataset files\n",
    "LYRIC_PATH = os.path.join(DATA_ROOT_PATH, \"lyrics_kor.txt\")\n",
    "BILLBOARD_PATH = os.path.join(DATA_ROOT_PATH, \"rawdata_김지훈_201500844.tsv\")\n",
    "GEULSTAGRAM_PATH = os.path.join(DATA_ROOT_PATH, \"geulstagram.csv\")"
   ]
  },
  {
   "cell_type": "code",
   "execution_count": 11,
   "metadata": {},
   "outputs": [
    {
     "data": {
      "text/plain": [
       "['내 곁에서 떠나가지 말아요 \\n',\n",
       " '그대없는 밤은 너무 쓸쓸해 \\n',\n",
       " '그대가 더 잘 알고 있잖아요 \\n',\n",
       " '제발 아무말도 하지 말아요\\n',\n",
       " '나약한 내가 뭘 할수 있을까 생각을 해봐\\n',\n",
       " '그대가 내겐 전부였었는데 음~오 \\n',\n",
       " '제발 내 곁에서 떠나가지 말아요\\n',\n",
       " '그대없는 밤은 너무 싫어\\n',\n",
       " '우~우~우~ 돌이킬수 없는 그대 마음 \\n',\n",
       " '우~우~우~ 이제와서 다시 어쩌려나\\n']"
      ]
     },
     "execution_count": 11,
     "metadata": {},
     "output_type": "execute_result"
    }
   ],
   "source": [
    "# read txt file from line by line\n",
    "def read_txt(path):\n",
    "    with open(path, 'r', encoding='utf-8') as f:\n",
    "        lines = f.readlines()\n",
    "    return lines\n",
    "\n",
    "sample_lyrics = read_txt(LYRIC_PATH)[:10]\n",
    "sample_lyrics"
   ]
  },
  {
   "cell_type": "code",
   "execution_count": 9,
   "metadata": {},
   "outputs": [
    {
     "data": {
      "text/plain": [
       "['우~우~우~ 돌이킬수 없는 그대 마음',\n",
       " '제발 내 곁에서 떠나가지 말아요',\n",
       " '그대없는 밤은 너무 쓸쓸해',\n",
       " '나약한 내가 뭘 할수 있을까 생각을 해봐',\n",
       " '제발 아무말도 하지 말아요',\n",
       " '그대가 내겐 전부였었는데 음~오',\n",
       " '그대없는 밤은 너무 싫어',\n",
       " '내 곁에서 떠나가지 말아요',\n",
       " '우~우~우~ 이제와서 다시 어쩌려나',\n",
       " '그대가 더 잘 알고 있잖아요']"
      ]
     },
     "execution_count": 9,
     "metadata": {},
     "output_type": "execute_result"
    }
   ],
   "source": [
    "# make preprocessing function\n",
    "def preprocess(list_lines:list) -> list:\n",
    "    # remove \\n\n",
    "    list_lines = [line.strip() for line in list_lines]\n",
    "    \n",
    "    # remove empty lines\n",
    "    list_lines = [line for line in list_lines if line]\n",
    "    \n",
    "    # remove duplicate elements from the list_lines\n",
    "    list_lines = list(set(list_lines))\n",
    "    return list_lines\n",
    "\n",
    "preprocess(sample_lyrics)"
   ]
  },
  {
   "cell_type": "markdown",
   "metadata": {},
   "source": [
    "### Read Korean Billboard Song dataset"
   ]
  },
  {
   "cell_type": "code",
   "execution_count": 18,
   "metadata": {},
   "outputs": [
    {
     "name": "stdout",
     "output_type": "stream",
     "text": [
      "(2276, 5)\n"
     ]
    },
    {
     "data": {
      "text/html": [
       "<div>\n",
       "<style scoped>\n",
       "    .dataframe tbody tr th:only-of-type {\n",
       "        vertical-align: middle;\n",
       "    }\n",
       "\n",
       "    .dataframe tbody tr th {\n",
       "        vertical-align: top;\n",
       "    }\n",
       "\n",
       "    .dataframe thead th {\n",
       "        text-align: right;\n",
       "    }\n",
       "</style>\n",
       "<table border=\"1\" class=\"dataframe\">\n",
       "  <thead>\n",
       "    <tr style=\"text-align: right;\">\n",
       "      <th></th>\n",
       "      <th>ID</th>\n",
       "      <th>Year</th>\n",
       "      <th>Title</th>\n",
       "      <th>Singer</th>\n",
       "      <th>Lyric</th>\n",
       "    </tr>\n",
       "  </thead>\n",
       "  <tbody>\n",
       "    <tr>\n",
       "      <th>0</th>\n",
       "      <td>1</td>\n",
       "      <td>1964</td>\n",
       "      <td>동백아가씨</td>\n",
       "      <td>이미자</td>\n",
       "      <td>헤일 수 없이 수많은 밤을 내 가슴 도려내는 아픔에 겨워 얼마나 울었던가 동백아가씨...</td>\n",
       "    </tr>\n",
       "    <tr>\n",
       "      <th>1</th>\n",
       "      <td>2</td>\n",
       "      <td>1964</td>\n",
       "      <td>마도로스 부기</td>\n",
       "      <td>백야성</td>\n",
       "      <td>항구의 일~~번지 부기우기 일~번지 그라스를 채워~다오 부기우기 아~~가씨 고동이 ...</td>\n",
       "    </tr>\n",
       "    <tr>\n",
       "      <th>2</th>\n",
       "      <td>3</td>\n",
       "      <td>1964</td>\n",
       "      <td>이국땅</td>\n",
       "      <td>남일해</td>\n",
       "      <td>하룻밤 뱃길이면 가고 오건만 못 가는 이국땅에 서러움이 많 아현해탄 파도 위에 비친...</td>\n",
       "    </tr>\n",
       "  </tbody>\n",
       "</table>\n",
       "</div>"
      ],
      "text/plain": [
       "   ID  Year    Title Singer                                              Lyric\n",
       "0   1  1964    동백아가씨    이미자  헤일 수 없이 수많은 밤을 내 가슴 도려내는 아픔에 겨워 얼마나 울었던가 동백아가씨...\n",
       "1   2  1964  마도로스 부기    백야성  항구의 일~~번지 부기우기 일~번지 그라스를 채워~다오 부기우기 아~~가씨 고동이 ...\n",
       "2   3  1964      이국땅    남일해  하룻밤 뱃길이면 가고 오건만 못 가는 이국땅에 서러움이 많 아현해탄 파도 위에 비친..."
      ]
     },
     "execution_count": 18,
     "metadata": {},
     "output_type": "execute_result"
    }
   ],
   "source": [
    "# read and load from tsv\n",
    "df_billboard = pd.read_csv(BILLBOARD_PATH, sep='\\t')\n",
    "print(df_billboard.shape)\n",
    "df_billboard.head(3)"
   ]
  },
  {
   "cell_type": "code",
   "execution_count": 23,
   "metadata": {},
   "outputs": [
    {
     "data": {
      "text/html": [
       "<div>\n",
       "<style scoped>\n",
       "    .dataframe tbody tr th:only-of-type {\n",
       "        vertical-align: middle;\n",
       "    }\n",
       "\n",
       "    .dataframe tbody tr th {\n",
       "        vertical-align: top;\n",
       "    }\n",
       "\n",
       "    .dataframe thead th {\n",
       "        text-align: right;\n",
       "    }\n",
       "</style>\n",
       "<table border=\"1\" class=\"dataframe\">\n",
       "  <thead>\n",
       "    <tr style=\"text-align: right;\">\n",
       "      <th></th>\n",
       "      <th>ID</th>\n",
       "      <th>Year</th>\n",
       "      <th>Title</th>\n",
       "      <th>Singer</th>\n",
       "      <th>Lyric</th>\n",
       "    </tr>\n",
       "  </thead>\n",
       "  <tbody>\n",
       "    <tr>\n",
       "      <th>1832</th>\n",
       "      <td>1833</td>\n",
       "      <td>2011</td>\n",
       "      <td>여우야</td>\n",
       "      <td>투개월</td>\n",
       "      <td>창 밖엔 서글픈 비만 내려오네 내 마음 너무 안타까워 이제 다시 볼 수가 없기에 처...</td>\n",
       "    </tr>\n",
       "    <tr>\n",
       "      <th>1833</th>\n",
       "      <td>1834</td>\n",
       "      <td>2011</td>\n",
       "      <td>Lonely</td>\n",
       "      <td>2NE1</td>\n",
       "      <td>지금 내가 하는 얘기 널 아프게 할지 몰라 아마 날 죽도록 미워하게 될 꺼야 내가 ...</td>\n",
       "    </tr>\n",
       "    <tr>\n",
       "      <th>1834</th>\n",
       "      <td>1835</td>\n",
       "      <td>2011</td>\n",
       "      <td>나만 몰랐던 이야기</td>\n",
       "      <td>아이유</td>\n",
       "      <td>정말 넌 다 잊었더라 반갑게 날 보는 너의 얼굴 보니 그제야 어렴풋이 아파오더라 새...</td>\n",
       "    </tr>\n",
       "  </tbody>\n",
       "</table>\n",
       "</div>"
      ],
      "text/plain": [
       "        ID  Year       Title Singer  \\\n",
       "1832  1833  2011         여우야    투개월   \n",
       "1833  1834  2011      Lonely   2NE1   \n",
       "1834  1835  2011  나만 몰랐던 이야기    아이유   \n",
       "\n",
       "                                                  Lyric  \n",
       "1832  창 밖엔 서글픈 비만 내려오네 내 마음 너무 안타까워 이제 다시 볼 수가 없기에 처...  \n",
       "1833  지금 내가 하는 얘기 널 아프게 할지 몰라 아마 날 죽도록 미워하게 될 꺼야 내가 ...  \n",
       "1834  정말 넌 다 잊었더라 반갑게 날 보는 너의 얼굴 보니 그제야 어렴풋이 아파오더라 새...  "
      ]
     },
     "execution_count": 23,
     "metadata": {},
     "output_type": "execute_result"
    }
   ],
   "source": [
    "# filter by year where year is greater than 2015\n",
    "df_billboard_recent = df_billboard[df_billboard['Year'] > 2010]\n",
    "# remove row where Lyric contains \"청소년 보호법에 따라 성인 인증이 필요한 콘텐츠 입니다.\"\n",
    "df_billboard_recent = df_billboard_recent[df_billboard_recent['Lyric'].str.contains(\"청소년 보호법에 따라 성인 인증이 필요한 콘텐츠 입니다.\") == False]\n",
    "# display head of the dataframe\n",
    "df_billboard_recent.head(3)"
   ]
  },
  {
   "cell_type": "markdown",
   "metadata": {},
   "source": [
    "### Read Geulstagram dataset"
   ]
  },
  {
   "cell_type": "code",
   "execution_count": 26,
   "metadata": {},
   "outputs": [
    {
     "name": "stdout",
     "output_type": "stream",
     "text": [
      "(25179, 8)\n"
     ]
    },
    {
     "data": {
      "text/html": [
       "<div>\n",
       "<style scoped>\n",
       "    .dataframe tbody tr th:only-of-type {\n",
       "        vertical-align: middle;\n",
       "    }\n",
       "\n",
       "    .dataframe tbody tr th {\n",
       "        vertical-align: top;\n",
       "    }\n",
       "\n",
       "    .dataframe thead th {\n",
       "        text-align: right;\n",
       "    }\n",
       "</style>\n",
       "<table border=\"1\" class=\"dataframe\">\n",
       "  <thead>\n",
       "    <tr style=\"text-align: right;\">\n",
       "      <th></th>\n",
       "      <th>Unnamed: 0</th>\n",
       "      <th>USER_ID</th>\n",
       "      <th>Image_Content_txt</th>\n",
       "      <th>Image_Content_txt_result</th>\n",
       "      <th>Content_txt</th>\n",
       "      <th>Hashtags</th>\n",
       "      <th>Hashtags_result</th>\n",
       "      <th>Spell_Checked_Content</th>\n",
       "    </tr>\n",
       "  </thead>\n",
       "  <tbody>\n",
       "    <tr>\n",
       "      <th>0</th>\n",
       "      <td>0</td>\n",
       "      <td>1day1poem</td>\n",
       "      <td>XXL 칫솔은 새 것인데 솔질이 새 것 아니니 잇몸에 피가 난다. 저 뺏뻣한 것을 ...</td>\n",
       "      <td>칫솔은 새 것인데 솔질이 새 것 아니니 잇몸에 피가 난다. 저 뺏뻣한 것을 다 벌어...</td>\n",
       "      <td>칫솔은 새 것인데 솔질이 새 것 아니니 잇몸에 피가 난다.  저 뻣뻣한 것을 다 벌...</td>\n",
       "      <td>['가능하면1일1시', '190706', '임재건', '1일1시', '다시는사랑이없...</td>\n",
       "      <td>['자작시', '시', '시스타그램', '감성', '감성글', '공감', '공감글'...</td>\n",
       "      <td>칫솔은 새것인데 솔질이 새것 아니니 잇몸에 피가 난다. 저 뺏뻣한 것을 다 벌어진 ...</td>\n",
       "    </tr>\n",
       "    <tr>\n",
       "      <th>1</th>\n",
       "      <td>1</td>\n",
       "      <td>1day1poem</td>\n",
       "      <td>아무도 미워하지 않으니 아무도좋다지 않는다. 요즘은 미운 것이 같아야 벗이라더라. ...</td>\n",
       "      <td>아무도 미워하지 않으니 아무도좋다지 않는다. 요즘은 미운 것이 같아야 벗이라더라. ...</td>\n",
       "      <td>아무도 미워하지 않으니 아무도 좋다지 않는다.  요즘은 미운 것이 같아야 벗이라더라...</td>\n",
       "      <td>['가능하면1일1시', '190701', '임재건', '다시는사랑이없을줄알았습니다'...</td>\n",
       "      <td>['벗', '혐오', '호불호', '자작시', '시', '시스타그램', '감성', ...</td>\n",
       "      <td>아무도 미워하지 않으니 아무도 좋다지 않는다. 요즘은 미운 것이 같아야 벗이라더라....</td>\n",
       "    </tr>\n",
       "    <tr>\n",
       "      <th>2</th>\n",
       "      <td>2</td>\n",
       "      <td>1day1poem</td>\n",
       "      <td>어제 초승이던 것이 오늘 보름이겠느냐만 너는 밤하늘 둥근 빛이라도 달은 아니므로 벌...</td>\n",
       "      <td>어제 초승이던 것이 오늘 보름이겠느냐만 너는 밤하늘 둥근 빛이라도 달은 아니므로 벌...</td>\n",
       "      <td>어제 초승이던 것이 오늘 보름이겠느냐만  너는 밤하늘 둥근 빛이라도 달은 아니므로 ...</td>\n",
       "      <td>['가능하면1일1시', '190807', '임재건', '1일1시', '다시는사랑이없...</td>\n",
       "      <td>['달달', '달', '초승달', '보름달', '밤', '하늘', '자작시', '시...</td>\n",
       "      <td>어제 초승이던 것이 오늘 보름이겠느냐만 너는 밤하늘 둥근 빛이라도 달은 아니므로 벌...</td>\n",
       "    </tr>\n",
       "  </tbody>\n",
       "</table>\n",
       "</div>"
      ],
      "text/plain": [
       "   Unnamed: 0    USER_ID                                  Image_Content_txt  \\\n",
       "0           0  1day1poem  XXL 칫솔은 새 것인데 솔질이 새 것 아니니 잇몸에 피가 난다. 저 뺏뻣한 것을 ...   \n",
       "1           1  1day1poem  아무도 미워하지 않으니 아무도좋다지 않는다. 요즘은 미운 것이 같아야 벗이라더라. ...   \n",
       "2           2  1day1poem  어제 초승이던 것이 오늘 보름이겠느냐만 너는 밤하늘 둥근 빛이라도 달은 아니므로 벌...   \n",
       "\n",
       "                            Image_Content_txt_result  \\\n",
       "0  칫솔은 새 것인데 솔질이 새 것 아니니 잇몸에 피가 난다. 저 뺏뻣한 것을 다 벌어...   \n",
       "1  아무도 미워하지 않으니 아무도좋다지 않는다. 요즘은 미운 것이 같아야 벗이라더라. ...   \n",
       "2  어제 초승이던 것이 오늘 보름이겠느냐만 너는 밤하늘 둥근 빛이라도 달은 아니므로 벌...   \n",
       "\n",
       "                                         Content_txt  \\\n",
       "0  칫솔은 새 것인데 솔질이 새 것 아니니 잇몸에 피가 난다.  저 뻣뻣한 것을 다 벌...   \n",
       "1  아무도 미워하지 않으니 아무도 좋다지 않는다.  요즘은 미운 것이 같아야 벗이라더라...   \n",
       "2  어제 초승이던 것이 오늘 보름이겠느냐만  너는 밤하늘 둥근 빛이라도 달은 아니므로 ...   \n",
       "\n",
       "                                            Hashtags  \\\n",
       "0  ['가능하면1일1시', '190706', '임재건', '1일1시', '다시는사랑이없...   \n",
       "1  ['가능하면1일1시', '190701', '임재건', '다시는사랑이없을줄알았습니다'...   \n",
       "2  ['가능하면1일1시', '190807', '임재건', '1일1시', '다시는사랑이없...   \n",
       "\n",
       "                                     Hashtags_result  \\\n",
       "0  ['자작시', '시', '시스타그램', '감성', '감성글', '공감', '공감글'...   \n",
       "1  ['벗', '혐오', '호불호', '자작시', '시', '시스타그램', '감성', ...   \n",
       "2  ['달달', '달', '초승달', '보름달', '밤', '하늘', '자작시', '시...   \n",
       "\n",
       "                               Spell_Checked_Content  \n",
       "0  칫솔은 새것인데 솔질이 새것 아니니 잇몸에 피가 난다. 저 뺏뻣한 것을 다 벌어진 ...  \n",
       "1  아무도 미워하지 않으니 아무도 좋다지 않는다. 요즘은 미운 것이 같아야 벗이라더라....  \n",
       "2  어제 초승이던 것이 오늘 보름이겠느냐만 너는 밤하늘 둥근 빛이라도 달은 아니므로 벌...  "
      ]
     },
     "execution_count": 26,
     "metadata": {},
     "output_type": "execute_result"
    }
   ],
   "source": [
    "df_geulstagram = pd.read_csv(GEULSTAGRAM_PATH)\n",
    "print(df_geulstagram.shape)\n",
    "df_geulstagram.head(3)"
   ]
  },
  {
   "cell_type": "code",
   "execution_count": 47,
   "metadata": {},
   "outputs": [
    {
     "data": {
      "text/plain": [
       "Unnamed: 0                    0\n",
       "USER_ID                       0\n",
       "Image_Content_txt             0\n",
       "Image_Content_txt_result     30\n",
       "Content_txt                   0\n",
       "Hashtags                      0\n",
       "Hashtags_result               0\n",
       "Spell_Checked_Content       616\n",
       "dtype: int64"
      ]
     },
     "execution_count": 47,
     "metadata": {},
     "output_type": "execute_result"
    }
   ],
   "source": [
    "# check non null items in the dataframe\n",
    "df_geulstagram.isnull().sum()"
   ]
  },
  {
   "cell_type": "code",
   "execution_count": 52,
   "metadata": {},
   "outputs": [
    {
     "data": {
      "text/plain": [
       "Unnamed: 0                  0\n",
       "USER_ID                     0\n",
       "Image_Content_txt           0\n",
       "Image_Content_txt_result    0\n",
       "Content_txt                 0\n",
       "Hashtags                    0\n",
       "Hashtags_result             0\n",
       "Spell_Checked_Content       0\n",
       "dtype: int64"
      ]
     },
     "execution_count": 52,
     "metadata": {},
     "output_type": "execute_result"
    }
   ],
   "source": [
    "# drop null items\n",
    "df_geulstagram.dropna(inplace=True)"
   ]
  },
  {
   "cell_type": "markdown",
   "metadata": {},
   "source": [
    "### Concatanate Ballad, Billboard, Geulstagram into one list"
   ]
  },
  {
   "cell_type": "code",
   "execution_count": 56,
   "metadata": {},
   "outputs": [],
   "source": [
    "import numpy as np\n",
    "\n",
    "# make sampling function from the list\n",
    "def sampling(list_lines:list, n:int) -> list:\n",
    "    # sampling\n",
    "    list_lines = np.random.choice(list_lines, n)\n",
    "    list_lines = list(list_lines)\n",
    "    return list_lines"
   ]
  },
  {
   "cell_type": "code",
   "execution_count": 62,
   "metadata": {},
   "outputs": [
    {
     "name": "stdout",
     "output_type": "stream",
     "text": [
      "46914\n"
     ]
    },
    {
     "data": {
      "text/plain": [
       "['날 꽉 채운 감정들에 질려버렸어. 하지만 언제든 또 다른 사랑이 나타날 거야. 넌 너대로 살 것이고 내 삶은 계속 흘러가겠지. 데스티니스 차일드의 서바이버를 들으면서 조금씩 힘내야지. 그래 지금 날 둘러싸고 있는 사람들이 나에겐 더 소중하니까. 이사벨 해로  안녕? 난 이사벨이야 중에서',\n",
       " '인정하세요 당신이 틀렸어요 인서',\n",
       " '비가 내리는 밤에 네가 또 생각나 어김없이 생각나 지나도 변하는 건 없어 똑같이 또 생각나 그럴 때 나는 너를 위해 곡을 쓰곤 해 비가 내리는 밤에 네가 또 생각나 어김없이 생각나 빌런의 비가 내리는 밤에 중에서 아재 글',\n",
       " '이젠 아름답지',\n",
       " '달빛이 밝은 새벽이면 병을 앓듯 집을 나선다 붉은 벽돌담 내려와 있는 장미 줄기 내게 조심스레 내밀은 손끝인지 얼굴인지 모를 그것에 코끝을 가져다 댔다 새벽바람 끄덕이는 것인지 도리질 치는 것인지 오라는 것인지 가라는 것인지 장미 줄기 흔들리고 나는 뒤돌아보지 않았다',\n",
       " '사랑이란 그렇게 시작해',\n",
       " '알 수 없어 서글픈 밤',\n",
       " '길을 잃고 헤매고 있어~',\n",
       " '우주에서 가장 반짝거리는 별이었던 때가 있었다. 그 별이 영원할 거라 믿었던 때가 있었다. 별도 시간이 지나면 빛을 잃고 서서히 진다는 걸 이제야 알았다. 한재원  사랑에 빠진 순간 어제와 다른 오늘의 사랑 중에서',\n",
       " '돌려서 말하지 않기']"
      ]
     },
     "execution_count": 62,
     "metadata": {},
     "output_type": "execute_result"
    }
   ],
   "source": [
    "list_poetic_sentences = []\n",
    "\n",
    "# load lists\n",
    "list_lyrics = read_txt(LYRIC_PATH)\n",
    "list_billboard = df_billboard_recent['Lyric'].tolist()\n",
    "list_geulstagram = df_geulstagram['Spell_Checked_Content'].tolist()\n",
    "\n",
    "# concatenate lists\n",
    "list_poetic_sentences = preprocess(list_lyrics) + list_billboard + list_geulstagram\n",
    "print(len(list_poetic_sentences))\n",
    "\n",
    "sampling(list_poetic_sentences, 10)"
   ]
  },
  {
   "cell_type": "code",
   "execution_count": 100,
   "metadata": {},
   "outputs": [
    {
     "name": "stdout",
     "output_type": "stream",
     "text": [
      "85366\n"
     ]
    },
    {
     "data": {
      "text/plain": [
       "['바람처럼 자유롭게',\n",
       " '법 준 스님의 행복',\n",
       " '너와 함께 걷는 이 길이 나에게는 꽃길이네 꽃길',\n",
       " '멀어 가는 발길 무안하지 않게 짙은 안갯속에 멀어지자',\n",
       " '나의 마음 너의 마음',\n",
       " '막다른 길에서',\n",
       " '서른은 살이 넘은 어른의 준말인 줄 알았는데 나는 서투른의 준말처럼 살아가고 있다',\n",
       " '편지를 쓸까 했어요',\n",
       " '전송됨',\n",
       " '요즘은 얼리버드라는 할인 상품도 많고',\n",
       " '널 사랑하는 건 힘들지 않아 사랑하지 않는 게 힘든 거지 차돌',\n",
       " '품 안에 태어나 사는 건 끝없이 멀어지는 일 멀고 멀다 만나지 못할 만큼 떨어지는 일 사는 일 밖까지',\n",
       " '사연을 읽어주는 여자 불만을 침묵하고 있는 연인은 오래갈 수 없다',\n",
       " '감성 조각사 한웅',\n",
       " '비가 내리면 우산을 쓰듯이 어떤 감정이 솟든 일단 그냥 받아들여라 싫은 것은 싫은 것이고 좋은 것은 좋은 것이다',\n",
       " '후회가 또 화가',\n",
       " '어쩌면 세상에서 진실로 두려워해야 하는 것은 눈이 있어도 아름다운 걸 볼 줄 모르고 귀가 있어도 음악을 듣지 않고 또 마음이 있어도 참된 것을 이해하지 못하고 감동하지도 못하며 더구나 가슴속의 열정을 불사르지도 못하는 그런 사람들이 아닐까 구로야나기 테스코  창가의 토토 중에서',\n",
       " '말없이 신발 밑창만 내려다본다',\n",
       " '이 비를 맞으며',\n",
       " '까만눈 마주치면 내 내 아쉬워']"
      ]
     },
     "execution_count": 100,
     "metadata": {},
     "output_type": "execute_result"
    }
   ],
   "source": [
    "\n",
    "def break_sentence(list_sentences:list) -> list:\n",
    "    \"\"\" \n",
    "    break the string items of the list_poetic_sentences by \".\", \"!\", \"?\" \n",
    "    into two different string and and back to the list \n",
    "    \"\"\"\n",
    "    \n",
    "    # replace \".\", \"!\", \"?\" as \"SEPARATOR\"\n",
    "    list_sentences = [sentence.replace(\".\", \"SEPARATOR\").replace(\"!\", \"SEPARATOR\").replace(\"?\", \"SEPARATOR\") for sentence in list_sentences]\n",
    "        \n",
    "    # split string item into sublist\n",
    "    list_sentences = [sentence.split(\"SEPARATOR\") for sentence in list_sentences]\n",
    "    \n",
    "    # drop empty items\n",
    "    list_sentences = [sentence for sentence in list_sentences if sentence]\n",
    "\n",
    "    # pull out items from the nested list\n",
    "    list_sentences = [item for sublist in list_sentences for item in sublist]\n",
    "\n",
    "    # strip whitespace\n",
    "    list_sentences = [sentence.strip() for sentence in list_sentences]\n",
    "\n",
    "    # drop empty items\n",
    "    list_sentences = [sentence for sentence in list_sentences if sentence]\n",
    "\n",
    "\n",
    "    return list_sentences\n",
    "\n",
    "list_sentences = break_sentence(list_poetic_sentences)\n",
    "print(len(list_sentences))\n",
    "sampling(list_sentences, 20)"
   ]
  },
  {
   "cell_type": "code",
   "execution_count": 104,
   "metadata": {},
   "outputs": [],
   "source": [
    "# save the list of sentences to a txt file\n",
    "with open(os.path.join(DATA_ROOT_PATH, \"poetic_sentences_kor.txt\"), 'w', encoding='utf-8') as f:\n",
    "    for sentence in list_sentences:\n",
    "        f.write(sentence + '\\n')\n"
   ]
  },
  {
   "cell_type": "markdown",
   "metadata": {},
   "source": [
    "### Remove Authorship from the sentences (Work in Progress)"
   ]
  },
  {
   "cell_type": "code",
   "execution_count": 96,
   "metadata": {},
   "outputs": [
    {
     "data": {
      "text/plain": [
       "[('데일 카네기', 'PERSON'), (' ', 'O'), ('인간관계론', 'THEORY')]"
      ]
     },
     "execution_count": 96,
     "metadata": {},
     "output_type": "execute_result"
    }
   ],
   "source": [
    "# using NER tagging function of pororo: https://kakaobrain.github.io/pororo/tagging/ner.html\n",
    "from pororo import Pororo\n",
    "ner = Pororo(task=\"ner\", lang=\"ko\")\n",
    "pos_tagged = ner('데일 카네기 인간관계론')\n",
    "pos_tagged"
   ]
  },
  {
   "cell_type": "code",
   "execution_count": 102,
   "metadata": {},
   "outputs": [
    {
     "name": "stderr",
     "output_type": "stream",
     "text": [
      " 60%|██████    | 3/5 [00:07<00:05,  2.59s/it]\n"
     ]
    },
    {
     "data": {
      "text/plain": [
       "['전송됨',\n",
       " '요즘은 얼리버드라는 할인 상품도 많고',\n",
       " '어쩌면 세상에서 진실로 두려워해야 하는 것은 눈이 있어도 아름다운 걸 볼 줄 모르고 귀가 있어도 음악을 듣지 않고 또 마음이 있어도 참된 것을 이해하지 못하고 감동하지도 못하며 더구나 가슴속의 열정을 불사르지도 못하는 그런 사람들이 아닐까 구로야나기 테스코  창가의 토토 중에서']"
      ]
     },
     "execution_count": 102,
     "metadata": {},
     "output_type": "execute_result"
    }
   ],
   "source": [
    "from tqdm import tqdm\n",
    "from pororo import Pororo\n",
    "ner = Pororo(task=\"ner\", lang=\"ko\")\n",
    "\n",
    "sample_list = [\n",
    "    '감성 조각사 한웅',\n",
    "    '전송됨',\n",
    "    '요즘은 얼리버드라는 할인 상품도 많고',\n",
    "    '널 사랑하는 건 힘들지 않아 사랑하지 않는 게 힘든 거지 차돌',\n",
    "    '어쩌면 세상에서 진실로 두려워해야 하는 것은 눈이 있어도 아름다운 걸 볼 줄 모르고 귀가 있어도 음악을 듣지 않고 또 마음이 있어도 참된 것을 이해하지 못하고 감동하지도 못하며 더구나 가슴속의 열정을 불사르지도 못하는 그런 사람들이 아닐까 구로야나기 테스코  창가의 토토 중에서',\n",
    "]\n",
    "\n",
    "# filter \"PERSON\" tags from the list\n",
    "def filter_person(list_sentences:list) -> list:\n",
    "    for item in tqdm(list_sentences):\n",
    "        list_pos_tagged = ner(item)\n",
    "        for string, pos_tag in list_pos_tagged:\n",
    "            if pos_tag == \"PERSON\":\n",
    "                list_sentences.remove(item)\n",
    "    return list_sentences\n",
    "\n",
    "filter_person(sample_list)"
   ]
  },
  {
   "cell_type": "markdown",
   "metadata": {},
   "source": [
    "### EDA (Work in Progress)"
   ]
  },
  {
   "cell_type": "code",
   "execution_count": 89,
   "metadata": {},
   "outputs": [
    {
     "data": {
      "image/png": "[encoded data removed]",
      "text/plain": [
       "<Figure size 432x288 with 1 Axes>"
      ]
     },
     "metadata": {
      "needs_background": "light"
     },
     "output_type": "display_data"
    }
   ],
   "source": [
    "import matplotlib.pyplot as plt\n",
    "import seaborn as sns\n",
    "\n",
    "# check the length distribution of the list with x ticks divided by 10 characters\n",
    "plt.hist(list(map(len, list_sentences)), bins=np.arange(0, max(list(map(len, list_sentences)))+1, 10))\n",
    "plt.xlim(0, 300) # set x tick limit to 300\n",
    "plt.xlabel(\"Length of the sentence\")\n",
    "plt.ylabel(\"Frequency\")\n",
    "plt.show()"
   ]
  },
  {
   "cell_type": "code",
   "execution_count": null,
   "metadata": {},
   "outputs": [],
   "source": [
    "# check the distribution of the starting character of the list_poetic_sentences\n",
    "# \"가\", \"나\",\"다\" 등 시작하는 글자들에 따른 분포 확인할 필요 있음"
   ]
  }
 ],
 "metadata": {
  "interpreter": {
   "hash": "86cc1fc39ab6acfc9b98d188dcc233e58c381403d84a60c8a993907295df4c51"
  },
  "kernelspec": {
   "display_name": "Python 3.8.3 64-bit ('aitech': pyenv)",
   "language": "python",
   "name": "python3"
  },
  "language_info": {
   "codemirror_mode": {
    "name": "ipython",
    "version": 3
   },
   "file_extension": ".py",
   "mimetype": "text/x-python",
   "name": "python",
   "nbconvert_exporter": "python",
   "pygments_lexer": "ipython3",
   "version": "3.8.3"
  },
  "orig_nbformat": 4
 },
 "nbformat": 4,
 "nbformat_minor": 2
}
