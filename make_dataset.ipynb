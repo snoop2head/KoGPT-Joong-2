{
 "cells": [
  {
   "cell_type": "markdown",
   "metadata": {},
   "source": [
    "### Read Korean Ballad Lyrics Dataset"
   ]
  },
  {
   "cell_type": "code",
   "execution_count": 1,
   "metadata": {},
   "outputs": [],
   "source": [
    "import pandas as pd\n",
    "import numpy as np"
   ]
  },
  {
   "cell_type": "code",
   "execution_count": 2,
   "metadata": {},
   "outputs": [],
   "source": [
    "import os\n",
    "# designate root path for the data\n",
    "DATA_ROOT_PATH = \"./data\"\n",
    "\n",
    "# designate path for each dataset files\n",
    "LYRIC_PATH = os.path.join(DATA_ROOT_PATH, \"lyrics_kor.txt\")\n",
    "BILLBOARD_PATH = os.path.join(DATA_ROOT_PATH, \"rawdata_김지훈_201500844.tsv\")\n",
    "GEULSTAGRAM_PATH = os.path.join(DATA_ROOT_PATH, \"geulstagram.csv\")"
   ]
  },
  {
   "cell_type": "code",
   "execution_count": 3,
   "metadata": {},
   "outputs": [
    {
     "data": {
      "text/plain": [
       "['내 곁에서 떠나가지 말아요 \\n',\n",
       " '그대없는 밤은 너무 쓸쓸해 \\n',\n",
       " '그대가 더 잘 알고 있잖아요 \\n',\n",
       " '제발 아무말도 하지 말아요\\n',\n",
       " '나약한 내가 뭘 할수 있을까 생각을 해봐\\n',\n",
       " '그대가 내겐 전부였었는데 음~오 \\n',\n",
       " '제발 내 곁에서 떠나가지 말아요\\n',\n",
       " '그대없는 밤은 너무 싫어\\n',\n",
       " '우~우~우~ 돌이킬수 없는 그대 마음 \\n',\n",
       " '우~우~우~ 이제와서 다시 어쩌려나\\n']"
      ]
     },
     "execution_count": 3,
     "metadata": {},
     "output_type": "execute_result"
    }
   ],
   "source": [
    "# read txt file from line by line\n",
    "def read_txt(path):\n",
    "    with open(path, 'r', encoding='utf-8') as f:\n",
    "        lines = f.readlines()\n",
    "    return lines\n",
    "\n",
    "sample_lyrics = read_txt(LYRIC_PATH)[:10]\n",
    "sample_lyrics"
   ]
  },
  {
   "cell_type": "code",
   "execution_count": 4,
   "metadata": {},
   "outputs": [],
   "source": [
    "import numpy as np\n",
    "\n",
    "# make sampling function from the list\n",
    "def sampling(list_lines:list, n:int) -> list:\n",
    "    # sampling\n",
    "    list_lines = np.random.choice(list_lines, n)\n",
    "    list_lines = list(list_lines)\n",
    "    return list_lines"
   ]
  },
  {
   "cell_type": "code",
   "execution_count": 5,
   "metadata": {},
   "outputs": [
    {
     "data": {
      "text/plain": [
       "['우~우~우~ 이제와서 다시 어쩌려나',\n",
       " '그대가 내겐 전부였었는데 음~오',\n",
       " '제발 내 곁에서 떠나가지 말아요',\n",
       " '그대가 더 잘 알고 있잖아요',\n",
       " '우~우~우~ 돌이킬수 없는 그대 마음',\n",
       " '내 곁에서 떠나가지 말아요',\n",
       " '그대없는 밤은 너무 쓸쓸해',\n",
       " '나약한 내가 뭘 할수 있을까 생각을 해봐',\n",
       " '제발 아무말도 하지 말아요',\n",
       " '그대없는 밤은 너무 싫어']"
      ]
     },
     "execution_count": 5,
     "metadata": {},
     "output_type": "execute_result"
    }
   ],
   "source": [
    "import re\n",
    "\n",
    "stopwords = [\n",
    "    \"사연을 읽어주는 여자\",\n",
    "    \"메시지 지금 동건 글\",\n",
    "    \"전송됨\",\n",
    "    \"가희 글\",\n",
    "    \"공유\",\n",
    "    \"댓글\",\n",
    "    \"오후\",\n",
    "    \"오전\"\n",
    "    \"등등\",\n",
    "    \"중략\",\n",
    "    \"신중근\",\n",
    "    \"신중군\"\n",
    "    \"글 사진\"\n",
    "]\n",
    "\n",
    "# make preprocessing function\n",
    "def preprocess(list_lines:list) -> list:\n",
    "    # remove \\n\n",
    "    removed_lines = [line.strip() for line in list_lines]\n",
    "\n",
    "    # filter stopwords from the line item in list_lines using regex\n",
    "    removed_lines = []\n",
    "    for line in list_lines:\n",
    "        for stopword in stopwords:\n",
    "            line = re.sub(stopword, '', line)\n",
    "        removed_lines.append(line)\n",
    "\n",
    "    # remove empty lines\n",
    "    removed_lines = [line for line in removed_lines if line]\n",
    "    \n",
    "    # remove duplicate elements from the removed_lines\n",
    "    removed_lines = list(set(removed_lines))\n",
    "\n",
    "    # strip whitespace\n",
    "    removed_lines = [sentence.strip() for sentence in removed_lines]\n",
    "\n",
    "    # remove tabs\n",
    "    removed_lines = [sentence.replace('\\t', '') for sentence in removed_lines]\n",
    "\n",
    "    # remove double spaces or longer spaces into single space\n",
    "    for i in range(2,5):\n",
    "        removed_lines = [sentence.replace(' '*i, ' ') for sentence in removed_lines]\n",
    "\n",
    "    # remove one letter items\n",
    "    removed_lines = [sentence for sentence in removed_lines if len(sentence) > 1]\n",
    "\n",
    "    return removed_lines\n",
    "\n",
    "preprocess(sample_lyrics)"
   ]
  },
  {
   "cell_type": "markdown",
   "metadata": {},
   "source": [
    "### Read Korean Billboard Song dataset"
   ]
  },
  {
   "cell_type": "code",
   "execution_count": 6,
   "metadata": {},
   "outputs": [
    {
     "name": "stdout",
     "output_type": "stream",
     "text": [
      "(2276, 5)\n"
     ]
    },
    {
     "data": {
      "text/html": [
       "<div>\n",
       "<style scoped>\n",
       "    .dataframe tbody tr th:only-of-type {\n",
       "        vertical-align: middle;\n",
       "    }\n",
       "\n",
       "    .dataframe tbody tr th {\n",
       "        vertical-align: top;\n",
       "    }\n",
       "\n",
       "    .dataframe thead th {\n",
       "        text-align: right;\n",
       "    }\n",
       "</style>\n",
       "<table border=\"1\" class=\"dataframe\">\n",
       "  <thead>\n",
       "    <tr style=\"text-align: right;\">\n",
       "      <th></th>\n",
       "      <th>ID</th>\n",
       "      <th>Year</th>\n",
       "      <th>Title</th>\n",
       "      <th>Singer</th>\n",
       "      <th>Lyric</th>\n",
       "    </tr>\n",
       "  </thead>\n",
       "  <tbody>\n",
       "    <tr>\n",
       "      <th>0</th>\n",
       "      <td>1</td>\n",
       "      <td>1964</td>\n",
       "      <td>동백아가씨</td>\n",
       "      <td>이미자</td>\n",
       "      <td>헤일 수 없이 수많은 밤을 내 가슴 도려내는 아픔에 겨워 얼마나 울었던가 동백아가씨...</td>\n",
       "    </tr>\n",
       "    <tr>\n",
       "      <th>1</th>\n",
       "      <td>2</td>\n",
       "      <td>1964</td>\n",
       "      <td>마도로스 부기</td>\n",
       "      <td>백야성</td>\n",
       "      <td>항구의 일~~번지 부기우기 일~번지 그라스를 채워~다오 부기우기 아~~가씨 고동이 ...</td>\n",
       "    </tr>\n",
       "    <tr>\n",
       "      <th>2</th>\n",
       "      <td>3</td>\n",
       "      <td>1964</td>\n",
       "      <td>이국땅</td>\n",
       "      <td>남일해</td>\n",
       "      <td>하룻밤 뱃길이면 가고 오건만 못 가는 이국땅에 서러움이 많 아현해탄 파도 위에 비친...</td>\n",
       "    </tr>\n",
       "  </tbody>\n",
       "</table>\n",
       "</div>"
      ],
      "text/plain": [
       "   ID  Year    Title Singer                                              Lyric\n",
       "0   1  1964    동백아가씨    이미자  헤일 수 없이 수많은 밤을 내 가슴 도려내는 아픔에 겨워 얼마나 울었던가 동백아가씨...\n",
       "1   2  1964  마도로스 부기    백야성  항구의 일~~번지 부기우기 일~번지 그라스를 채워~다오 부기우기 아~~가씨 고동이 ...\n",
       "2   3  1964      이국땅    남일해  하룻밤 뱃길이면 가고 오건만 못 가는 이국땅에 서러움이 많 아현해탄 파도 위에 비친..."
      ]
     },
     "execution_count": 6,
     "metadata": {},
     "output_type": "execute_result"
    }
   ],
   "source": [
    "# read and load from tsv\n",
    "df_billboard = pd.read_csv(BILLBOARD_PATH, sep='\\t')\n",
    "print(df_billboard.shape)\n",
    "df_billboard.head(3)"
   ]
  },
  {
   "cell_type": "code",
   "execution_count": 7,
   "metadata": {},
   "outputs": [
    {
     "data": {
      "text/html": [
       "<div>\n",
       "<style scoped>\n",
       "    .dataframe tbody tr th:only-of-type {\n",
       "        vertical-align: middle;\n",
       "    }\n",
       "\n",
       "    .dataframe tbody tr th {\n",
       "        vertical-align: top;\n",
       "    }\n",
       "\n",
       "    .dataframe thead th {\n",
       "        text-align: right;\n",
       "    }\n",
       "</style>\n",
       "<table border=\"1\" class=\"dataframe\">\n",
       "  <thead>\n",
       "    <tr style=\"text-align: right;\">\n",
       "      <th></th>\n",
       "      <th>ID</th>\n",
       "      <th>Year</th>\n",
       "      <th>Title</th>\n",
       "      <th>Singer</th>\n",
       "      <th>Lyric</th>\n",
       "    </tr>\n",
       "  </thead>\n",
       "  <tbody>\n",
       "    <tr>\n",
       "      <th>1832</th>\n",
       "      <td>1833</td>\n",
       "      <td>2011</td>\n",
       "      <td>여우야</td>\n",
       "      <td>투개월</td>\n",
       "      <td>창 밖엔 서글픈 비만 내려오네 내 마음 너무 안타까워 이제 다시 볼 수가 없기에 처...</td>\n",
       "    </tr>\n",
       "    <tr>\n",
       "      <th>1833</th>\n",
       "      <td>1834</td>\n",
       "      <td>2011</td>\n",
       "      <td>Lonely</td>\n",
       "      <td>2NE1</td>\n",
       "      <td>지금 내가 하는 얘기 널 아프게 할지 몰라 아마 날 죽도록 미워하게 될 꺼야 내가 ...</td>\n",
       "    </tr>\n",
       "    <tr>\n",
       "      <th>1834</th>\n",
       "      <td>1835</td>\n",
       "      <td>2011</td>\n",
       "      <td>나만 몰랐던 이야기</td>\n",
       "      <td>아이유</td>\n",
       "      <td>정말 넌 다 잊었더라 반갑게 날 보는 너의 얼굴 보니 그제야 어렴풋이 아파오더라 새...</td>\n",
       "    </tr>\n",
       "  </tbody>\n",
       "</table>\n",
       "</div>"
      ],
      "text/plain": [
       "        ID  Year       Title Singer  \\\n",
       "1832  1833  2011         여우야    투개월   \n",
       "1833  1834  2011      Lonely   2NE1   \n",
       "1834  1835  2011  나만 몰랐던 이야기    아이유   \n",
       "\n",
       "                                                  Lyric  \n",
       "1832  창 밖엔 서글픈 비만 내려오네 내 마음 너무 안타까워 이제 다시 볼 수가 없기에 처...  \n",
       "1833  지금 내가 하는 얘기 널 아프게 할지 몰라 아마 날 죽도록 미워하게 될 꺼야 내가 ...  \n",
       "1834  정말 넌 다 잊었더라 반갑게 날 보는 너의 얼굴 보니 그제야 어렴풋이 아파오더라 새...  "
      ]
     },
     "execution_count": 7,
     "metadata": {},
     "output_type": "execute_result"
    }
   ],
   "source": [
    "# filter by year where year is greater than 2015\n",
    "df_billboard_recent = df_billboard[df_billboard['Year'] > 2010]\n",
    "# remove row where Lyric contains \"청소년 보호법에 따라 성인 인증이 필요한 콘텐츠 입니다.\"\n",
    "df_billboard_recent = df_billboard_recent[df_billboard_recent['Lyric'].str.contains(\"청소년 보호법에 따라 성인 인증이 필요한 콘텐츠 입니다.\") == False]\n",
    "# display head of the dataframe\n",
    "df_billboard_recent.head(3)"
   ]
  },
  {
   "cell_type": "markdown",
   "metadata": {},
   "source": [
    "### Read Geulstagram dataset"
   ]
  },
  {
   "cell_type": "code",
   "execution_count": 8,
   "metadata": {},
   "outputs": [
    {
     "name": "stdout",
     "output_type": "stream",
     "text": [
      "(25179, 8)\n"
     ]
    },
    {
     "data": {
      "text/html": [
       "<div>\n",
       "<style scoped>\n",
       "    .dataframe tbody tr th:only-of-type {\n",
       "        vertical-align: middle;\n",
       "    }\n",
       "\n",
       "    .dataframe tbody tr th {\n",
       "        vertical-align: top;\n",
       "    }\n",
       "\n",
       "    .dataframe thead th {\n",
       "        text-align: right;\n",
       "    }\n",
       "</style>\n",
       "<table border=\"1\" class=\"dataframe\">\n",
       "  <thead>\n",
       "    <tr style=\"text-align: right;\">\n",
       "      <th></th>\n",
       "      <th>Unnamed: 0</th>\n",
       "      <th>USER_ID</th>\n",
       "      <th>Image_Content_txt</th>\n",
       "      <th>Image_Content_txt_result</th>\n",
       "      <th>Content_txt</th>\n",
       "      <th>Hashtags</th>\n",
       "      <th>Hashtags_result</th>\n",
       "      <th>Spell_Checked_Content</th>\n",
       "    </tr>\n",
       "  </thead>\n",
       "  <tbody>\n",
       "    <tr>\n",
       "      <th>0</th>\n",
       "      <td>0</td>\n",
       "      <td>1day1poem</td>\n",
       "      <td>XXL 칫솔은 새 것인데 솔질이 새 것 아니니 잇몸에 피가 난다. 저 뺏뻣한 것을 ...</td>\n",
       "      <td>칫솔은 새 것인데 솔질이 새 것 아니니 잇몸에 피가 난다. 저 뺏뻣한 것을 다 벌어...</td>\n",
       "      <td>칫솔은 새 것인데 솔질이 새 것 아니니 잇몸에 피가 난다.  저 뻣뻣한 것을 다 벌...</td>\n",
       "      <td>['가능하면1일1시', '190706', '임재건', '1일1시', '다시는사랑이없...</td>\n",
       "      <td>['자작시', '시', '시스타그램', '감성', '감성글', '공감', '공감글'...</td>\n",
       "      <td>칫솔은 새것인데 솔질이 새것 아니니 잇몸에 피가 난다. 저 뺏뻣한 것을 다 벌어진 ...</td>\n",
       "    </tr>\n",
       "    <tr>\n",
       "      <th>1</th>\n",
       "      <td>1</td>\n",
       "      <td>1day1poem</td>\n",
       "      <td>아무도 미워하지 않으니 아무도좋다지 않는다. 요즘은 미운 것이 같아야 벗이라더라. ...</td>\n",
       "      <td>아무도 미워하지 않으니 아무도좋다지 않는다. 요즘은 미운 것이 같아야 벗이라더라. ...</td>\n",
       "      <td>아무도 미워하지 않으니 아무도 좋다지 않는다.  요즘은 미운 것이 같아야 벗이라더라...</td>\n",
       "      <td>['가능하면1일1시', '190701', '임재건', '다시는사랑이없을줄알았습니다'...</td>\n",
       "      <td>['벗', '혐오', '호불호', '자작시', '시', '시스타그램', '감성', ...</td>\n",
       "      <td>아무도 미워하지 않으니 아무도 좋다지 않는다. 요즘은 미운 것이 같아야 벗이라더라....</td>\n",
       "    </tr>\n",
       "    <tr>\n",
       "      <th>2</th>\n",
       "      <td>2</td>\n",
       "      <td>1day1poem</td>\n",
       "      <td>어제 초승이던 것이 오늘 보름이겠느냐만 너는 밤하늘 둥근 빛이라도 달은 아니므로 벌...</td>\n",
       "      <td>어제 초승이던 것이 오늘 보름이겠느냐만 너는 밤하늘 둥근 빛이라도 달은 아니므로 벌...</td>\n",
       "      <td>어제 초승이던 것이 오늘 보름이겠느냐만  너는 밤하늘 둥근 빛이라도 달은 아니므로 ...</td>\n",
       "      <td>['가능하면1일1시', '190807', '임재건', '1일1시', '다시는사랑이없...</td>\n",
       "      <td>['달달', '달', '초승달', '보름달', '밤', '하늘', '자작시', '시...</td>\n",
       "      <td>어제 초승이던 것이 오늘 보름이겠느냐만 너는 밤하늘 둥근 빛이라도 달은 아니므로 벌...</td>\n",
       "    </tr>\n",
       "  </tbody>\n",
       "</table>\n",
       "</div>"
      ],
      "text/plain": [
       "   Unnamed: 0    USER_ID                                  Image_Content_txt  \\\n",
       "0           0  1day1poem  XXL 칫솔은 새 것인데 솔질이 새 것 아니니 잇몸에 피가 난다. 저 뺏뻣한 것을 ...   \n",
       "1           1  1day1poem  아무도 미워하지 않으니 아무도좋다지 않는다. 요즘은 미운 것이 같아야 벗이라더라. ...   \n",
       "2           2  1day1poem  어제 초승이던 것이 오늘 보름이겠느냐만 너는 밤하늘 둥근 빛이라도 달은 아니므로 벌...   \n",
       "\n",
       "                            Image_Content_txt_result  \\\n",
       "0  칫솔은 새 것인데 솔질이 새 것 아니니 잇몸에 피가 난다. 저 뺏뻣한 것을 다 벌어...   \n",
       "1  아무도 미워하지 않으니 아무도좋다지 않는다. 요즘은 미운 것이 같아야 벗이라더라. ...   \n",
       "2  어제 초승이던 것이 오늘 보름이겠느냐만 너는 밤하늘 둥근 빛이라도 달은 아니므로 벌...   \n",
       "\n",
       "                                         Content_txt  \\\n",
       "0  칫솔은 새 것인데 솔질이 새 것 아니니 잇몸에 피가 난다.  저 뻣뻣한 것을 다 벌...   \n",
       "1  아무도 미워하지 않으니 아무도 좋다지 않는다.  요즘은 미운 것이 같아야 벗이라더라...   \n",
       "2  어제 초승이던 것이 오늘 보름이겠느냐만  너는 밤하늘 둥근 빛이라도 달은 아니므로 ...   \n",
       "\n",
       "                                            Hashtags  \\\n",
       "0  ['가능하면1일1시', '190706', '임재건', '1일1시', '다시는사랑이없...   \n",
       "1  ['가능하면1일1시', '190701', '임재건', '다시는사랑이없을줄알았습니다'...   \n",
       "2  ['가능하면1일1시', '190807', '임재건', '1일1시', '다시는사랑이없...   \n",
       "\n",
       "                                     Hashtags_result  \\\n",
       "0  ['자작시', '시', '시스타그램', '감성', '감성글', '공감', '공감글'...   \n",
       "1  ['벗', '혐오', '호불호', '자작시', '시', '시스타그램', '감성', ...   \n",
       "2  ['달달', '달', '초승달', '보름달', '밤', '하늘', '자작시', '시...   \n",
       "\n",
       "                               Spell_Checked_Content  \n",
       "0  칫솔은 새것인데 솔질이 새것 아니니 잇몸에 피가 난다. 저 뺏뻣한 것을 다 벌어진 ...  \n",
       "1  아무도 미워하지 않으니 아무도 좋다지 않는다. 요즘은 미운 것이 같아야 벗이라더라....  \n",
       "2  어제 초승이던 것이 오늘 보름이겠느냐만 너는 밤하늘 둥근 빛이라도 달은 아니므로 벌...  "
      ]
     },
     "execution_count": 8,
     "metadata": {},
     "output_type": "execute_result"
    }
   ],
   "source": [
    "df_geulstagram = pd.read_csv(GEULSTAGRAM_PATH)\n",
    "print(df_geulstagram.shape)\n",
    "df_geulstagram.head(3)"
   ]
  },
  {
   "cell_type": "code",
   "execution_count": 9,
   "metadata": {},
   "outputs": [
    {
     "data": {
      "text/plain": [
       "Unnamed: 0                    0\n",
       "USER_ID                       0\n",
       "Image_Content_txt             0\n",
       "Image_Content_txt_result     30\n",
       "Content_txt                   0\n",
       "Hashtags                      0\n",
       "Hashtags_result               0\n",
       "Spell_Checked_Content       616\n",
       "dtype: int64"
      ]
     },
     "execution_count": 9,
     "metadata": {},
     "output_type": "execute_result"
    }
   ],
   "source": [
    "# check non null items in the dataframe\n",
    "df_geulstagram.isnull().sum()"
   ]
  },
  {
   "cell_type": "code",
   "execution_count": 10,
   "metadata": {},
   "outputs": [],
   "source": [
    "# drop null items\n",
    "df_geulstagram.dropna(inplace=True)"
   ]
  },
  {
   "cell_type": "markdown",
   "metadata": {},
   "source": [
    "### Concatanate Ballad, Billboard, Geulstagram into one list"
   ]
  },
  {
   "cell_type": "code",
   "execution_count": 13,
   "metadata": {},
   "outputs": [
    {
     "name": "stdout",
     "output_type": "stream",
     "text": [
      "87342\n"
     ]
    },
    {
     "data": {
      "text/plain": [
       "['내가 너를 나태주 내가 너를 얼마나 좋아하는지 너는 몰라도 된다 너를 좋아하는 마음은 오로지 나의 것이요. 나의 그리움은 나 혼자만의 것으로도 차고 넘치니까. 나는 이제 너 없이도 너를 좋아할 수 있다.',\n",
       " '빛과 그대 모습 사라져\\n',\n",
       " '하고 싶은 거 하고 살아 누굴 위해 살지 말고 널 위해 살았으면 좋겠어 네가 없으면 이 세상도 없는 거니까 드라마 급 공무원 중에서 아재 글',\n",
       " '남겨진 시간들은\\n',\n",
       " '돌아서 눈감으면 잊을까\\n',\n",
       " '무엇 하나 보여줄 것 없으니\\n',\n",
       " '행복하기만 했어\\n',\n",
       " '\\n',\n",
       " '세월이 흘러가면 사랑을 알지\\n',\n",
       " '흐린 가을 하늘에 편지를 써 \\n']"
      ]
     },
     "execution_count": 13,
     "metadata": {},
     "output_type": "execute_result"
    }
   ],
   "source": [
    "list_poetic_sentences = []\n",
    "\n",
    "# load lists\n",
    "list_lyrics = read_txt(LYRIC_PATH)\n",
    "list_billboard = df_billboard_recent['Lyric'].tolist()\n",
    "list_geulstagram = df_geulstagram['Spell_Checked_Content'].tolist()\n",
    "\n",
    "# concatenate lists\n",
    "list_poetic_sentences = list_lyrics + list_billboard + list_geulstagram\n",
    "print(len(list_poetic_sentences))\n",
    "\n",
    "sampling(list_poetic_sentences, 10)"
   ]
  },
  {
   "cell_type": "code",
   "execution_count": 1,
   "metadata": {},
   "outputs": [
    {
     "ename": "NameError",
     "evalue": "name 'list_poetic_sentences' is not defined",
     "output_type": "error",
     "traceback": [
      "\u001b[0;31m---------------------------------------------------------------------------\u001b[0m",
      "\u001b[0;31mNameError\u001b[0m                                 Traceback (most recent call last)",
      "\u001b[0;32m/var/folders/f8/9hn0rsx125vf87jp8_skr1l40000gn/T/ipykernel_4836/3972169873.py\u001b[0m in \u001b[0;36m<module>\u001b[0;34m\u001b[0m\n\u001b[1;32m     40\u001b[0m     \u001b[0;32mreturn\u001b[0m \u001b[0msentence_list\u001b[0m\u001b[0;34m\u001b[0m\u001b[0;34m\u001b[0m\u001b[0m\n\u001b[1;32m     41\u001b[0m \u001b[0;34m\u001b[0m\u001b[0m\n\u001b[0;32m---> 42\u001b[0;31m \u001b[0msample_sentences\u001b[0m \u001b[0;34m=\u001b[0m \u001b[0mbreak_sentence\u001b[0m\u001b[0;34m(\u001b[0m\u001b[0mlist_poetic_sentences\u001b[0m\u001b[0;34m)\u001b[0m\u001b[0;34m\u001b[0m\u001b[0;34m\u001b[0m\u001b[0m\n\u001b[0m\u001b[1;32m     43\u001b[0m \u001b[0mprint\u001b[0m\u001b[0;34m(\u001b[0m\u001b[0mlen\u001b[0m\u001b[0;34m(\u001b[0m\u001b[0msample_sentences\u001b[0m\u001b[0;34m)\u001b[0m\u001b[0;34m)\u001b[0m\u001b[0;34m\u001b[0m\u001b[0;34m\u001b[0m\u001b[0m\n\u001b[1;32m     44\u001b[0m \u001b[0msampling\u001b[0m\u001b[0;34m(\u001b[0m\u001b[0msample_sentences\u001b[0m\u001b[0;34m,\u001b[0m \u001b[0;36m20\u001b[0m\u001b[0;34m)\u001b[0m\u001b[0;34m\u001b[0m\u001b[0;34m\u001b[0m\u001b[0m\n",
      "\u001b[0;31mNameError\u001b[0m: name 'list_poetic_sentences' is not defined"
     ]
    }
   ],
   "source": [
    "import kss\n",
    "from tqdm import tqdm\n",
    "\n",
    "def break_sentence(list_sentences:list) -> list:\n",
    "    \"\"\" \n",
    "    break the string items of the into sentences (sentence segmentation)\n",
    "    \"\"\"\n",
    "    \n",
    "    # strip whitespace\n",
    "    list_sentences = [sentence.strip() for sentence in list_sentences]\n",
    "\n",
    "    # remove \\n\n",
    "    list_sentences = [sentence.replace('\\n', '') for sentence in list_sentences]\n",
    "\n",
    "    # drop empty items\n",
    "    list_sentences = [sentence for sentence in list_sentences if sentence]\n",
    "\n",
    "    sentence_list = []\n",
    "    \n",
    "    # split string item into sublist\n",
    "    # https://github.com/hyunwoongko/kss/\n",
    "    for item in tqdm(list_sentences):\n",
    "        item = kss.split_sentences(\n",
    "            item, # batch input rather than single string\n",
    "            backend = \"mecab\", # default is pynori. mecab 5x is faster than pynori: https://github.com/hyunwoongko/kss/blob/main/docs/ANALYSIS.md#11-open-ended-segmentation\n",
    "            num_workers = -1, # use maximum workers as possible\n",
    "            use_heuristic = True\n",
    "            )\n",
    "        sentence_list.extend(item)\n",
    "\n",
    "    # apply preprocessing function for each item in line_sentences\n",
    "    sentence_list = preprocess(sentence_list)\n",
    "\n",
    "    # drop empty items\n",
    "    sentence_list = [sentence for sentence in sentence_list if sentence]\n",
    "\n",
    "    # drop duplicate items\n",
    "    sentence_list = list(set(sentence_list))\n",
    "\n",
    "    return sentence_list\n",
    "\n",
    "sample_sentences = break_sentence(list_poetic_sentences)\n",
    "print(len(sample_sentences))\n",
    "sampling(sample_sentences, 20)"
   ]
  },
  {
   "cell_type": "code",
   "execution_count": 16,
   "metadata": {},
   "outputs": [
    {
     "name": "stderr",
     "output_type": "stream",
     "text": [
      "  5%|▌         | 4316/79483 [20:28<7:55:59,  2.63it/s]"
     ]
    }
   ],
   "source": [
    "# 8 hours per 80000 sentences when using pynori\n",
    "breaken_down_sentences = break_sentence(list_poetic_sentences)\n",
    "len(breaken_down_sentences)"
   ]
  },
  {
   "cell_type": "code",
   "execution_count": 14,
   "metadata": {},
   "outputs": [],
   "source": [
    "# save the list of sentences to a txt file\n",
    "with open(os.path.join(DATA_ROOT_PATH, \"poetic_sentences_kor.txt\"), 'w', encoding='utf-8') as f:\n",
    "    for sentence in breaken_down_sentences:\n",
    "        f.write(sentence + '\\n')\n"
   ]
  },
  {
   "cell_type": "markdown",
   "metadata": {},
   "source": [
    "### EDA (Work in Progress)"
   ]
  },
  {
   "cell_type": "code",
   "execution_count": 15,
   "metadata": {},
   "outputs": [
    {
     "data": {
      "text/plain": [
       "78822"
      ]
     },
     "execution_count": 15,
     "metadata": {},
     "output_type": "execute_result"
    }
   ],
   "source": [
    "# read dataset from poetic_sentences_kor.txt\n",
    "path = os.path.join(DATA_ROOT_PATH, \"poetic_sentences_kor.txt\")\n",
    "list_loaded = read_txt(path)\n",
    "len(list_loaded)"
   ]
  },
  {
   "cell_type": "code",
   "execution_count": 16,
   "metadata": {},
   "outputs": [
    {
     "data": {
      "image/png": "[encoded data removed]",
      "text/plain": [
       "<Figure size 432x288 with 1 Axes>"
      ]
     },
     "metadata": {
      "needs_background": "light"
     },
     "output_type": "display_data"
    }
   ],
   "source": [
    "import matplotlib.pyplot as plt\n",
    "import seaborn as sns\n",
    "\n",
    "# check the length distribution of the list with x ticks divided by 10 characters\n",
    "plt.hist(list(map(len, list_loaded)), bins=np.arange(0, max(list(map(len, list_loaded)))+1, 10))\n",
    "plt.xlim(0, 300) # set x tick limit to 300\n",
    "plt.xlabel(\"Length of the sentence\")\n",
    "plt.ylabel(\"Frequency\")\n",
    "plt.show()"
   ]
  },
  {
   "cell_type": "code",
   "execution_count": 17,
   "metadata": {},
   "outputs": [
    {
     "name": "stdout",
     "output_type": "stream",
     "text": [
      "13742 0.17434218872903504\n"
     ]
    },
    {
     "data": {
      "text/plain": [
       "['행복은 어쩌다 한번 주어지는 큰 재산 같은 것이 아니라 일상생활에서 일어나는 작은 이익들로 만들어진다\\n',\n",
       " '만약 지금 내 주변에 고통받는 사람이 있는데도 내가 남들보다 권력과 재 물 명예와 인기를 더 많이 가졌다면 그것으로 누리는 내 기쁨은 그들의 희생으로 얻어진 것입니다\\n',\n",
       " '화요일 메시지 지금 석굴 사랑해라는 말이 사랑했었다고 변하고 달려갈게라는 말이 보고 싶다고 변하고 예쁜 곳을 가자던 말이 예쁜 곳을 가라는 말로 변했다 사랑을 이 제야 알게 되었는데 사랑을 잃었다\\n',\n",
       " '여름밤 서점에 갔다 베스트 엘러 코너에 갔다 포츠 선수 연예인 유튜브 에세이가 많다 내 책은 없다 시집은 없다\\n',\n",
       " '그대의 이름을 불러보고 싶어요 짐짓 아무렇지도 않은 목소리로 그대와 조금 더 오래 있고 싶어요 크고 작은 일들을 바쁘게 섞어하며 그대의 손을 잡아보고 싶어요 여럿 속에 섞여서 아무렇지도 않은 듯 그러다 슬그머니 생각을 거두며 나는 이것이 사랑임을 알아요 꽃이 피기 전 단내로 뻗어오는 찔레순 같은 오월 아침 첫 문을 열고 하늘을 바라보는 마음 같은 이것이 사랑임을 알아요 그러나 나의 사랑이 그대에게 상처가 될까 봐 오늘도 말 안 하고 달빛 아래 돌아와요 어쩌면 두고두고 한 번도 말 안 하고 이렇게 살게 되지 생각하며 혼자서 돌아와요 도종환 혼자 사랑\\n',\n",
       " '내 손에 잡히는 것들은 결국 언젠가 사라지는 것들이지만 바다를 앞에 두고 걸었던 일이나 그대와 밤길을 걸었던 일\\n',\n",
       " '숨 막힐 듯 조여 왔던 그대의 하루 누구도 그대의 그 슬픔 몰라주어도 나는 항상 그대를 응원할 거예요 수고했어요 오늘도 응원\\n',\n",
       " '회사 안은 전쟁터란다 회사 밖은 지옥이란다 나는 전쟁 지옥도 아닌 사람이고 숨 쉬고 싶다 사람 냄새나는 그런 회사생활 없나요\\n',\n",
       " '잘못된 방법이라는 것을 깨달았을 땐 이미 너의 마음에 상처가 가득했고  서운함이 생길 때마다 어떻게 표현해야 할지 몰라서\\n',\n",
       " '앞뒤 없이 주위를 둘러보지 못하고 어디가 아픈지도 상처가 났는지도 모를 정도니까 그래서 사랑이 무섭고 위험하다는 것\\n']"
      ]
     },
     "execution_count": 17,
     "metadata": {},
     "output_type": "execute_result"
    }
   ],
   "source": [
    "# get proportion of sentences where length is longer than 50\n",
    "length = 50\n",
    "list_long = list(filter(lambda x: len(x) > length, list_loaded))\n",
    "print(len(list_long) , len(list_long) / len(list_loaded))\n",
    "sampling(list_long, 10)"
   ]
  },
  {
   "cell_type": "markdown",
   "metadata": {},
   "source": [
    "### Remove Names from the sentences (Work in Progress)"
   ]
  },
  {
   "cell_type": "code",
   "execution_count": null,
   "metadata": {},
   "outputs": [],
   "source": [
    "# using NER tagging function of pororo: https://kakaobrain.github.io/pororo/tagging/ner.html\n",
    "from pororo import Pororo\n",
    "ner = Pororo(task=\"ner\", lang=\"ko\")\n",
    "pos_tagged = ner('데일 카네기 인간관계론')\n",
    "pos_tagged"
   ]
  },
  {
   "cell_type": "code",
   "execution_count": null,
   "metadata": {},
   "outputs": [],
   "source": [
    "from tqdm import tqdm\n",
    "from pororo import Pororo\n",
    "ner = Pororo(task=\"ner\", lang=\"ko\")\n",
    "\n",
    "sample_list = [\n",
    "    '감성 조각사 한웅',\n",
    "    '전송됨',\n",
    "    '요즘은 얼리버드라는 할인 상품도 많고',\n",
    "    '널 사랑하는 건 힘들지 않아 사랑하지 않는 게 힘든 거지 차돌',\n",
    "    '어쩌면 세상에서 진실로 두려워해야 하는 것은 눈이 있어도 아름다운 걸 볼 줄 모르고 귀가 있어도 음악을 듣지 않고 또 마음이 있어도 참된 것을 이해하지 못하고 감동하지도 못하며 더구나 가슴속의 열정을 불사르지도 못하는 그런 사람들이 아닐까 구로야나기 테스코  창가의 토토 중에서',\n",
    "]\n",
    "\n",
    "# filter \"PERSON\" tags from the list\n",
    "def filter_person(list_sentences:list) -> list:\n",
    "    \"\"\" takes too long :( \"\"\"\n",
    "    for item in tqdm(list_sentences):\n",
    "        list_pos_tagged = ner(item)\n",
    "        for string, pos_tag in list_pos_tagged:\n",
    "            if pos_tag == \"PERSON\":\n",
    "                list_sentences.remove(item)\n",
    "    return list_sentences\n",
    "\n",
    "# filter_person(sample_list)"
   ]
  },
  {
   "cell_type": "code",
   "execution_count": null,
   "metadata": {},
   "outputs": [],
   "source": [
    "# check the distribution of the starting character of the list_poetic_sentences\n",
    "# \"가\", \"나\",\"다\" 등 시작하는 글자들에 따른 분포 확인할 필요 있음"
   ]
  }
 ],
 "metadata": {
  "interpreter": {
   "hash": "86cc1fc39ab6acfc9b98d188dcc233e58c381403d84a60c8a993907295df4c51"
  },
  "kernelspec": {
   "display_name": "Python 3.8.3 64-bit ('aitech': pyenv)",
   "language": "python",
   "name": "python3"
  },
  "language_info": {
   "codemirror_mode": {
    "name": "ipython",
    "version": 3
   },
   "file_extension": ".py",
   "mimetype": "text/x-python",
   "name": "python",
   "nbconvert_exporter": "python",
   "pygments_lexer": "ipython3",
   "version": "3.8.3"
  },
  "orig_nbformat": 4
 },
 "nbformat": 4,
 "nbformat_minor": 2
}
