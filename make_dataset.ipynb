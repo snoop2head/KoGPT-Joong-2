{
 "cells": [
  {
   "cell_type": "markdown",
   "metadata": {},
   "source": [
    "### Read Korean Ballad Lyrics Dataset"
   ]
  },
  {
   "cell_type": "code",
   "execution_count": 1,
   "metadata": {},
   "outputs": [],
   "source": [
    "import pandas as pd\n",
    "import numpy as np"
   ]
  },
  {
   "cell_type": "code",
   "execution_count": 2,
   "metadata": {},
   "outputs": [],
   "source": [
    "import os\n",
    "# designate root path for the data\n",
    "DATA_ROOT_PATH = \"./data\"\n",
    "\n",
    "# designate path for each dataset files\n",
    "LYRIC_PATH = os.path.join(DATA_ROOT_PATH, \"lyrics_kor.txt\")\n",
    "BILLBOARD_PATH = os.path.join(DATA_ROOT_PATH, \"rawdata_김지훈_201500844.tsv\")\n",
    "GEULSTAGRAM_PATH = os.path.join(DATA_ROOT_PATH, \"geulstagram.csv\")"
   ]
  },
  {
   "cell_type": "code",
   "execution_count": 3,
   "metadata": {},
   "outputs": [
    {
     "data": {
      "text/plain": [
       "['내 곁에서 떠나가지 말아요 \\n',\n",
       " '그대없는 밤은 너무 쓸쓸해 \\n',\n",
       " '그대가 더 잘 알고 있잖아요 \\n',\n",
       " '제발 아무말도 하지 말아요\\n',\n",
       " '나약한 내가 뭘 할수 있을까 생각을 해봐\\n',\n",
       " '그대가 내겐 전부였었는데 음~오 \\n',\n",
       " '제발 내 곁에서 떠나가지 말아요\\n',\n",
       " '그대없는 밤은 너무 싫어\\n',\n",
       " '우~우~우~ 돌이킬수 없는 그대 마음 \\n',\n",
       " '우~우~우~ 이제와서 다시 어쩌려나\\n']"
      ]
     },
     "execution_count": 3,
     "metadata": {},
     "output_type": "execute_result"
    }
   ],
   "source": [
    "# read txt file from line by line\n",
    "def read_txt(path):\n",
    "    with open(path, 'r', encoding='utf-8') as f:\n",
    "        lines = f.readlines()\n",
    "    return lines\n",
    "\n",
    "sample_lyrics = read_txt(LYRIC_PATH)[:10]\n",
    "sample_lyrics"
   ]
  },
  {
   "cell_type": "code",
   "execution_count": 4,
   "metadata": {},
   "outputs": [],
   "source": [
    "import numpy as np\n",
    "\n",
    "# make sampling function from the list\n",
    "def sampling(list_lines:list, n:int) -> list:\n",
    "    # sampling\n",
    "    list_lines = np.random.choice(list_lines, n)\n",
    "    list_lines = list(list_lines)\n",
    "    return list_lines"
   ]
  },
  {
   "cell_type": "code",
   "execution_count": 5,
   "metadata": {},
   "outputs": [
    {
     "data": {
      "text/plain": [
       "['내 곁에서 떠나가지 말아요',\n",
       " '나약한 내가 뭘 할수 있을까 생각을 해봐',\n",
       " '제발 내 곁에서 떠나가지 말아요',\n",
       " '제발 아무말도 하지 말아요',\n",
       " '우~우~우~ 이제와서 다시 어쩌려나',\n",
       " '우~우~우~ 돌이킬수 없는 그대 마음',\n",
       " '그대없는 밤은 너무 싫어',\n",
       " '그대가 내겐 전부였었는데 음~오',\n",
       " '그대가 더 잘 알고 있잖아요',\n",
       " '그대없는 밤은 너무 쓸쓸해']"
      ]
     },
     "execution_count": 5,
     "metadata": {},
     "output_type": "execute_result"
    }
   ],
   "source": [
    "import re\n",
    "\n",
    "stopwords = [\n",
    "    \"사연을 읽어주는 여자\",\n",
    "    \"메시지 지금 동건 글\",\n",
    "    \"전송됨\",\n",
    "    \"가희 글\",\n",
    "    \"공유\",\n",
    "    \"댓글\",\n",
    "    \"오후\",\n",
    "    \"오전\"\n",
    "    \"등등\",\n",
    "    \"중략\",\n",
    "    \"신중근\",\n",
    "    \"신중군\"\n",
    "    \"글 사진\"\n",
    "]\n",
    "\n",
    "# make preprocessing function\n",
    "def preprocess(list_lines:list) -> list:\n",
    "    # remove \\n\n",
    "    removed_lines = [line.strip() for line in list_lines]\n",
    "\n",
    "    # filter stopwords from the line item in list_lines using regex\n",
    "    removed_lines = []\n",
    "    for line in list_lines:\n",
    "        for stopword in stopwords:\n",
    "            line = re.sub(stopword, '', line)\n",
    "        removed_lines.append(line)\n",
    "\n",
    "    # remove empty lines\n",
    "    removed_lines = [line for line in removed_lines if line]\n",
    "    \n",
    "    # remove duplicate elements from the removed_lines\n",
    "    removed_lines = list(set(removed_lines))\n",
    "\n",
    "    # strip whitespace\n",
    "    removed_lines = [sentence.strip() for sentence in removed_lines]\n",
    "\n",
    "    # remove tabs\n",
    "    removed_lines = [sentence.replace('\\t', '') for sentence in removed_lines]\n",
    "\n",
    "    # remove double spaces or longer spaces into single space\n",
    "    for i in range(2,5):\n",
    "        removed_lines = [sentence.replace(' '*i, ' ') for sentence in removed_lines]\n",
    "\n",
    "    # remove one letter items\n",
    "    removed_lines = [sentence for sentence in removed_lines if len(sentence) > 1]\n",
    "\n",
    "    return removed_lines\n",
    "\n",
    "preprocess(sample_lyrics)"
   ]
  },
  {
   "cell_type": "markdown",
   "metadata": {},
   "source": [
    "### Read Korean Billboard Song dataset"
   ]
  },
  {
   "cell_type": "code",
   "execution_count": 6,
   "metadata": {},
   "outputs": [
    {
     "name": "stdout",
     "output_type": "stream",
     "text": [
      "(2276, 5)\n"
     ]
    },
    {
     "data": {
      "text/html": [
       "<div>\n",
       "<style scoped>\n",
       "    .dataframe tbody tr th:only-of-type {\n",
       "        vertical-align: middle;\n",
       "    }\n",
       "\n",
       "    .dataframe tbody tr th {\n",
       "        vertical-align: top;\n",
       "    }\n",
       "\n",
       "    .dataframe thead th {\n",
       "        text-align: right;\n",
       "    }\n",
       "</style>\n",
       "<table border=\"1\" class=\"dataframe\">\n",
       "  <thead>\n",
       "    <tr style=\"text-align: right;\">\n",
       "      <th></th>\n",
       "      <th>ID</th>\n",
       "      <th>Year</th>\n",
       "      <th>Title</th>\n",
       "      <th>Singer</th>\n",
       "      <th>Lyric</th>\n",
       "    </tr>\n",
       "  </thead>\n",
       "  <tbody>\n",
       "    <tr>\n",
       "      <th>0</th>\n",
       "      <td>1</td>\n",
       "      <td>1964</td>\n",
       "      <td>동백아가씨</td>\n",
       "      <td>이미자</td>\n",
       "      <td>헤일 수 없이 수많은 밤을 내 가슴 도려내는 아픔에 겨워 얼마나 울었던가 동백아가씨...</td>\n",
       "    </tr>\n",
       "    <tr>\n",
       "      <th>1</th>\n",
       "      <td>2</td>\n",
       "      <td>1964</td>\n",
       "      <td>마도로스 부기</td>\n",
       "      <td>백야성</td>\n",
       "      <td>항구의 일~~번지 부기우기 일~번지 그라스를 채워~다오 부기우기 아~~가씨 고동이 ...</td>\n",
       "    </tr>\n",
       "    <tr>\n",
       "      <th>2</th>\n",
       "      <td>3</td>\n",
       "      <td>1964</td>\n",
       "      <td>이국땅</td>\n",
       "      <td>남일해</td>\n",
       "      <td>하룻밤 뱃길이면 가고 오건만 못 가는 이국땅에 서러움이 많 아현해탄 파도 위에 비친...</td>\n",
       "    </tr>\n",
       "  </tbody>\n",
       "</table>\n",
       "</div>"
      ],
      "text/plain": [
       "   ID  Year    Title Singer                                              Lyric\n",
       "0   1  1964    동백아가씨    이미자  헤일 수 없이 수많은 밤을 내 가슴 도려내는 아픔에 겨워 얼마나 울었던가 동백아가씨...\n",
       "1   2  1964  마도로스 부기    백야성  항구의 일~~번지 부기우기 일~번지 그라스를 채워~다오 부기우기 아~~가씨 고동이 ...\n",
       "2   3  1964      이국땅    남일해  하룻밤 뱃길이면 가고 오건만 못 가는 이국땅에 서러움이 많 아현해탄 파도 위에 비친..."
      ]
     },
     "execution_count": 6,
     "metadata": {},
     "output_type": "execute_result"
    }
   ],
   "source": [
    "# read and load from tsv\n",
    "df_billboard = pd.read_csv(BILLBOARD_PATH, sep='\\t')\n",
    "print(df_billboard.shape)\n",
    "df_billboard.head(3)"
   ]
  },
  {
   "cell_type": "code",
   "execution_count": 7,
   "metadata": {},
   "outputs": [
    {
     "data": {
      "text/html": [
       "<div>\n",
       "<style scoped>\n",
       "    .dataframe tbody tr th:only-of-type {\n",
       "        vertical-align: middle;\n",
       "    }\n",
       "\n",
       "    .dataframe tbody tr th {\n",
       "        vertical-align: top;\n",
       "    }\n",
       "\n",
       "    .dataframe thead th {\n",
       "        text-align: right;\n",
       "    }\n",
       "</style>\n",
       "<table border=\"1\" class=\"dataframe\">\n",
       "  <thead>\n",
       "    <tr style=\"text-align: right;\">\n",
       "      <th></th>\n",
       "      <th>ID</th>\n",
       "      <th>Year</th>\n",
       "      <th>Title</th>\n",
       "      <th>Singer</th>\n",
       "      <th>Lyric</th>\n",
       "    </tr>\n",
       "  </thead>\n",
       "  <tbody>\n",
       "    <tr>\n",
       "      <th>1832</th>\n",
       "      <td>1833</td>\n",
       "      <td>2011</td>\n",
       "      <td>여우야</td>\n",
       "      <td>투개월</td>\n",
       "      <td>창 밖엔 서글픈 비만 내려오네 내 마음 너무 안타까워 이제 다시 볼 수가 없기에 처...</td>\n",
       "    </tr>\n",
       "    <tr>\n",
       "      <th>1833</th>\n",
       "      <td>1834</td>\n",
       "      <td>2011</td>\n",
       "      <td>Lonely</td>\n",
       "      <td>2NE1</td>\n",
       "      <td>지금 내가 하는 얘기 널 아프게 할지 몰라 아마 날 죽도록 미워하게 될 꺼야 내가 ...</td>\n",
       "    </tr>\n",
       "    <tr>\n",
       "      <th>1834</th>\n",
       "      <td>1835</td>\n",
       "      <td>2011</td>\n",
       "      <td>나만 몰랐던 이야기</td>\n",
       "      <td>아이유</td>\n",
       "      <td>정말 넌 다 잊었더라 반갑게 날 보는 너의 얼굴 보니 그제야 어렴풋이 아파오더라 새...</td>\n",
       "    </tr>\n",
       "  </tbody>\n",
       "</table>\n",
       "</div>"
      ],
      "text/plain": [
       "        ID  Year       Title Singer  \\\n",
       "1832  1833  2011         여우야    투개월   \n",
       "1833  1834  2011      Lonely   2NE1   \n",
       "1834  1835  2011  나만 몰랐던 이야기    아이유   \n",
       "\n",
       "                                                  Lyric  \n",
       "1832  창 밖엔 서글픈 비만 내려오네 내 마음 너무 안타까워 이제 다시 볼 수가 없기에 처...  \n",
       "1833  지금 내가 하는 얘기 널 아프게 할지 몰라 아마 날 죽도록 미워하게 될 꺼야 내가 ...  \n",
       "1834  정말 넌 다 잊었더라 반갑게 날 보는 너의 얼굴 보니 그제야 어렴풋이 아파오더라 새...  "
      ]
     },
     "execution_count": 7,
     "metadata": {},
     "output_type": "execute_result"
    }
   ],
   "source": [
    "# filter by year where year is greater than 2015\n",
    "df_billboard_recent = df_billboard[df_billboard['Year'] > 2010]\n",
    "# remove row where Lyric contains \"청소년 보호법에 따라 성인 인증이 필요한 콘텐츠 입니다.\"\n",
    "df_billboard_recent = df_billboard_recent[df_billboard_recent['Lyric'].str.contains(\"청소년 보호법에 따라 성인 인증이 필요한 콘텐츠 입니다.\") == False]\n",
    "# display head of the dataframe\n",
    "df_billboard_recent.head(3)"
   ]
  },
  {
   "cell_type": "markdown",
   "metadata": {},
   "source": [
    "### Read Geulstagram dataset"
   ]
  },
  {
   "cell_type": "code",
   "execution_count": 8,
   "metadata": {},
   "outputs": [
    {
     "name": "stdout",
     "output_type": "stream",
     "text": [
      "(25179, 8)\n"
     ]
    },
    {
     "data": {
      "text/html": [
       "<div>\n",
       "<style scoped>\n",
       "    .dataframe tbody tr th:only-of-type {\n",
       "        vertical-align: middle;\n",
       "    }\n",
       "\n",
       "    .dataframe tbody tr th {\n",
       "        vertical-align: top;\n",
       "    }\n",
       "\n",
       "    .dataframe thead th {\n",
       "        text-align: right;\n",
       "    }\n",
       "</style>\n",
       "<table border=\"1\" class=\"dataframe\">\n",
       "  <thead>\n",
       "    <tr style=\"text-align: right;\">\n",
       "      <th></th>\n",
       "      <th>Unnamed: 0</th>\n",
       "      <th>USER_ID</th>\n",
       "      <th>Image_Content_txt</th>\n",
       "      <th>Image_Content_txt_result</th>\n",
       "      <th>Content_txt</th>\n",
       "      <th>Hashtags</th>\n",
       "      <th>Hashtags_result</th>\n",
       "      <th>Spell_Checked_Content</th>\n",
       "    </tr>\n",
       "  </thead>\n",
       "  <tbody>\n",
       "    <tr>\n",
       "      <th>0</th>\n",
       "      <td>0</td>\n",
       "      <td>1day1poem</td>\n",
       "      <td>XXL 칫솔은 새 것인데 솔질이 새 것 아니니 잇몸에 피가 난다. 저 뺏뻣한 것을 ...</td>\n",
       "      <td>칫솔은 새 것인데 솔질이 새 것 아니니 잇몸에 피가 난다. 저 뺏뻣한 것을 다 벌어...</td>\n",
       "      <td>칫솔은 새 것인데 솔질이 새 것 아니니 잇몸에 피가 난다.  저 뻣뻣한 것을 다 벌...</td>\n",
       "      <td>['가능하면1일1시', '190706', '임재건', '1일1시', '다시는사랑이없...</td>\n",
       "      <td>['자작시', '시', '시스타그램', '감성', '감성글', '공감', '공감글'...</td>\n",
       "      <td>칫솔은 새것인데 솔질이 새것 아니니 잇몸에 피가 난다. 저 뺏뻣한 것을 다 벌어진 ...</td>\n",
       "    </tr>\n",
       "    <tr>\n",
       "      <th>1</th>\n",
       "      <td>1</td>\n",
       "      <td>1day1poem</td>\n",
       "      <td>아무도 미워하지 않으니 아무도좋다지 않는다. 요즘은 미운 것이 같아야 벗이라더라. ...</td>\n",
       "      <td>아무도 미워하지 않으니 아무도좋다지 않는다. 요즘은 미운 것이 같아야 벗이라더라. ...</td>\n",
       "      <td>아무도 미워하지 않으니 아무도 좋다지 않는다.  요즘은 미운 것이 같아야 벗이라더라...</td>\n",
       "      <td>['가능하면1일1시', '190701', '임재건', '다시는사랑이없을줄알았습니다'...</td>\n",
       "      <td>['벗', '혐오', '호불호', '자작시', '시', '시스타그램', '감성', ...</td>\n",
       "      <td>아무도 미워하지 않으니 아무도 좋다지 않는다. 요즘은 미운 것이 같아야 벗이라더라....</td>\n",
       "    </tr>\n",
       "    <tr>\n",
       "      <th>2</th>\n",
       "      <td>2</td>\n",
       "      <td>1day1poem</td>\n",
       "      <td>어제 초승이던 것이 오늘 보름이겠느냐만 너는 밤하늘 둥근 빛이라도 달은 아니므로 벌...</td>\n",
       "      <td>어제 초승이던 것이 오늘 보름이겠느냐만 너는 밤하늘 둥근 빛이라도 달은 아니므로 벌...</td>\n",
       "      <td>어제 초승이던 것이 오늘 보름이겠느냐만  너는 밤하늘 둥근 빛이라도 달은 아니므로 ...</td>\n",
       "      <td>['가능하면1일1시', '190807', '임재건', '1일1시', '다시는사랑이없...</td>\n",
       "      <td>['달달', '달', '초승달', '보름달', '밤', '하늘', '자작시', '시...</td>\n",
       "      <td>어제 초승이던 것이 오늘 보름이겠느냐만 너는 밤하늘 둥근 빛이라도 달은 아니므로 벌...</td>\n",
       "    </tr>\n",
       "  </tbody>\n",
       "</table>\n",
       "</div>"
      ],
      "text/plain": [
       "   Unnamed: 0    USER_ID                                  Image_Content_txt  \\\n",
       "0           0  1day1poem  XXL 칫솔은 새 것인데 솔질이 새 것 아니니 잇몸에 피가 난다. 저 뺏뻣한 것을 ...   \n",
       "1           1  1day1poem  아무도 미워하지 않으니 아무도좋다지 않는다. 요즘은 미운 것이 같아야 벗이라더라. ...   \n",
       "2           2  1day1poem  어제 초승이던 것이 오늘 보름이겠느냐만 너는 밤하늘 둥근 빛이라도 달은 아니므로 벌...   \n",
       "\n",
       "                            Image_Content_txt_result  \\\n",
       "0  칫솔은 새 것인데 솔질이 새 것 아니니 잇몸에 피가 난다. 저 뺏뻣한 것을 다 벌어...   \n",
       "1  아무도 미워하지 않으니 아무도좋다지 않는다. 요즘은 미운 것이 같아야 벗이라더라. ...   \n",
       "2  어제 초승이던 것이 오늘 보름이겠느냐만 너는 밤하늘 둥근 빛이라도 달은 아니므로 벌...   \n",
       "\n",
       "                                         Content_txt  \\\n",
       "0  칫솔은 새 것인데 솔질이 새 것 아니니 잇몸에 피가 난다.  저 뻣뻣한 것을 다 벌...   \n",
       "1  아무도 미워하지 않으니 아무도 좋다지 않는다.  요즘은 미운 것이 같아야 벗이라더라...   \n",
       "2  어제 초승이던 것이 오늘 보름이겠느냐만  너는 밤하늘 둥근 빛이라도 달은 아니므로 ...   \n",
       "\n",
       "                                            Hashtags  \\\n",
       "0  ['가능하면1일1시', '190706', '임재건', '1일1시', '다시는사랑이없...   \n",
       "1  ['가능하면1일1시', '190701', '임재건', '다시는사랑이없을줄알았습니다'...   \n",
       "2  ['가능하면1일1시', '190807', '임재건', '1일1시', '다시는사랑이없...   \n",
       "\n",
       "                                     Hashtags_result  \\\n",
       "0  ['자작시', '시', '시스타그램', '감성', '감성글', '공감', '공감글'...   \n",
       "1  ['벗', '혐오', '호불호', '자작시', '시', '시스타그램', '감성', ...   \n",
       "2  ['달달', '달', '초승달', '보름달', '밤', '하늘', '자작시', '시...   \n",
       "\n",
       "                               Spell_Checked_Content  \n",
       "0  칫솔은 새것인데 솔질이 새것 아니니 잇몸에 피가 난다. 저 뺏뻣한 것을 다 벌어진 ...  \n",
       "1  아무도 미워하지 않으니 아무도 좋다지 않는다. 요즘은 미운 것이 같아야 벗이라더라....  \n",
       "2  어제 초승이던 것이 오늘 보름이겠느냐만 너는 밤하늘 둥근 빛이라도 달은 아니므로 벌...  "
      ]
     },
     "execution_count": 8,
     "metadata": {},
     "output_type": "execute_result"
    }
   ],
   "source": [
    "df_geulstagram = pd.read_csv(GEULSTAGRAM_PATH)\n",
    "print(df_geulstagram.shape)\n",
    "df_geulstagram.head(3)"
   ]
  },
  {
   "cell_type": "code",
   "execution_count": 9,
   "metadata": {},
   "outputs": [
    {
     "data": {
      "text/plain": [
       "Unnamed: 0                    0\n",
       "USER_ID                       0\n",
       "Image_Content_txt             0\n",
       "Image_Content_txt_result     30\n",
       "Content_txt                   0\n",
       "Hashtags                      0\n",
       "Hashtags_result               0\n",
       "Spell_Checked_Content       616\n",
       "dtype: int64"
      ]
     },
     "execution_count": 9,
     "metadata": {},
     "output_type": "execute_result"
    }
   ],
   "source": [
    "# check non null items in the dataframe\n",
    "df_geulstagram.isnull().sum()"
   ]
  },
  {
   "cell_type": "code",
   "execution_count": 10,
   "metadata": {},
   "outputs": [],
   "source": [
    "# drop null items\n",
    "df_geulstagram.dropna(inplace=True)"
   ]
  },
  {
   "cell_type": "markdown",
   "metadata": {},
   "source": [
    "### Concatanate Ballad, Billboard, Geulstagram into one list"
   ]
  },
  {
   "cell_type": "code",
   "execution_count": 11,
   "metadata": {},
   "outputs": [
    {
     "name": "stdout",
     "output_type": "stream",
     "text": [
      "87342\n"
     ]
    },
    {
     "data": {
      "text/plain": [
       "['그 믿음조차 무색한 것은\\n',\n",
       " '\\n',\n",
       " '화를내다 웃고마는\\n',\n",
       " '\\n',\n",
       " '작은 슬픔은 지금은 모두 안녕\\n',\n",
       " '그대를 바랄볼 수 있는 것만으로\\n',\n",
       " '깜깜한 우린 달콤한 열매를 나눠먹고 이곳에 누워 눈을 감는다 내 옆에서 작게 숨 쉬는 너의 존재는 달도 없고 별도 없는 깊은 심해 속으로 나를 데려가 수천 톤의 수압보다 무거운 이불을 덮고 너와 나만이 있는 영원한 잠을 나는 자고 싶어라',\n",
       " '시간은 멀어짐으로 향해 가는데\\n',\n",
       " '오늘도 내 가슴에\\n',\n",
       " '그 사람의 대한 기대를 하게 되면 기대한 만큼 실망이 크다 실망 이명국']"
      ]
     },
     "execution_count": 11,
     "metadata": {},
     "output_type": "execute_result"
    }
   ],
   "source": [
    "list_poetic_sentences = []\n",
    "\n",
    "# load lists\n",
    "list_lyrics = read_txt(LYRIC_PATH)\n",
    "list_billboard = df_billboard_recent['Lyric'].tolist()\n",
    "list_geulstagram = df_geulstagram['Spell_Checked_Content'].tolist()\n",
    "\n",
    "# concatenate lists\n",
    "list_poetic_sentences = list_lyrics + list_billboard + list_geulstagram\n",
    "print(len(list_poetic_sentences))\n",
    "\n",
    "sampling(list_poetic_sentences, 10)"
   ]
  },
  {
   "cell_type": "code",
   "execution_count": 12,
   "metadata": {},
   "outputs": [
    {
     "name": "stderr",
     "output_type": "stream",
     "text": [
      "  0%|          | 0/10 [00:00<?, ?it/s][Korean Sentence Splitter]: Initializing Pynori...\n",
      "100%|██████████| 10/10 [00:12<00:00,  1.29s/it]"
     ]
    },
    {
     "name": "stdout",
     "output_type": "stream",
     "text": [
      "10\n"
     ]
    },
    {
     "name": "stderr",
     "output_type": "stream",
     "text": [
      "\n"
     ]
    },
    {
     "data": {
      "text/plain": [
       "['그대가 내겐 전부였었는데 음~오',\n",
       " '나약한 내가 뭘 할수 있을까 생각을 해봐',\n",
       " '제발 아무말도 하지 말아요',\n",
       " '그대없는 밤은 너무 싫어',\n",
       " '그대가 더 잘 알고 있잖아요',\n",
       " '우~우~우~ 돌이킬수 없는 그대 마음',\n",
       " '그대없는 밤은 너무 쓸쓸해',\n",
       " '제발 내 곁에서 떠나가지 말아요',\n",
       " '내 곁에서 떠나가지 말아요',\n",
       " '우~우~우~ 이제와서 다시 어쩌려나']"
      ]
     },
     "execution_count": 12,
     "metadata": {},
     "output_type": "execute_result"
    }
   ],
   "source": [
    "import kss\n",
    "from tqdm import tqdm\n",
    "\n",
    "def break_sentence(list_sentences:list) -> list:\n",
    "    \"\"\" \n",
    "    break the string items of the into sentences (sentence segmentation)\n",
    "    \"\"\"\n",
    "    \n",
    "    # strip whitespace\n",
    "    list_sentences = [sentence.strip() for sentence in list_sentences]\n",
    "\n",
    "    # remove \\n\n",
    "    list_sentences = [sentence.replace('\\n', '') for sentence in list_sentences]\n",
    "\n",
    "    # drop empty items\n",
    "    list_sentences = [sentence for sentence in list_sentences if sentence]\n",
    "\n",
    "    sentence_list = []\n",
    "    \n",
    "    # split string item into sublist\n",
    "    # https://github.com/hyunwoongko/kss/\n",
    "    for item in tqdm(list_sentences):\n",
    "        item = kss.split_sentences(\n",
    "            item, # batch input rather than single string\n",
    "            backend = \"pynori\", # default is pynori. mecab 5x is faster than pynori: https://github.com/hyunwoongko/kss/blob/main/docs/ANALYSIS.md#11-open-ended-segmentation\n",
    "            num_workers = -1, # use maximum workers as possible\n",
    "            use_heuristic = True\n",
    "            )\n",
    "        sentence_list.extend(item)\n",
    "\n",
    "    # apply preprocessing function for each item in line_sentences\n",
    "    sentence_list = preprocess(sentence_list)\n",
    "\n",
    "    # drop empty items\n",
    "    sentence_list = [sentence for sentence in sentence_list if sentence]\n",
    "\n",
    "    # drop duplicate items\n",
    "    sentence_list = list(set(sentence_list))\n",
    "\n",
    "    return sentence_list\n",
    "\n",
    "sample_sentences = break_sentence(list_poetic_sentences[:10])\n",
    "print(len(sample_sentences))\n",
    "sample_sentences"
   ]
  },
  {
   "cell_type": "code",
   "execution_count": 13,
   "metadata": {},
   "outputs": [
    {
     "name": "stderr",
     "output_type": "stream",
     "text": [
      "100%|██████████| 79483/79483 [8:28:09<00:00,  2.61it/s]\n"
     ]
    },
    {
     "data": {
      "text/plain": [
       "82989"
      ]
     },
     "execution_count": 13,
     "metadata": {},
     "output_type": "execute_result"
    }
   ],
   "source": [
    "# 8 hours(est) per 80000 sentences when using pynori tokenizer\n",
    "breaken_down_sentences = break_sentence(list_poetic_sentences)\n",
    "len(breaken_down_sentences)"
   ]
  },
  {
   "cell_type": "code",
   "execution_count": 14,
   "metadata": {},
   "outputs": [],
   "source": [
    "# save the list of sentences to a txt file\n",
    "with open(os.path.join(DATA_ROOT_PATH, \"poetic_sentences_kor.txt\"), 'w', encoding='utf-8') as f:\n",
    "    for sentence in breaken_down_sentences:\n",
    "        f.write(sentence + '\\n')\n"
   ]
  },
  {
   "cell_type": "markdown",
   "metadata": {},
   "source": [
    "### EDA (Work in Progress)"
   ]
  },
  {
   "cell_type": "code",
   "execution_count": 15,
   "metadata": {},
   "outputs": [
    {
     "data": {
      "text/plain": [
       "82989"
      ]
     },
     "execution_count": 15,
     "metadata": {},
     "output_type": "execute_result"
    }
   ],
   "source": [
    "# read dataset from poetic_sentences_kor.txt\n",
    "path = os.path.join(DATA_ROOT_PATH, \"poetic_sentences_kor.txt\")\n",
    "list_loaded = read_txt(path)\n",
    "len(list_loaded)"
   ]
  },
  {
   "cell_type": "code",
   "execution_count": 22,
   "metadata": {},
   "outputs": [
    {
     "data": {
      "image/png": "[encoded data removed]",
      "text/plain": [
       "<Figure size 432x288 with 1 Axes>"
      ]
     },
     "metadata": {
      "needs_background": "light"
     },
     "output_type": "display_data"
    }
   ],
   "source": [
    "import matplotlib.pyplot as plt\n",
    "import seaborn as sns\n",
    "\n",
    "# check the length distribution of the list with x ticks divided by 10 characters\n",
    "plt.hist(list(map(len, list_loaded)), bins=np.arange(0, max(list(map(len, list_loaded)))+1, 10))\n",
    "plt.xlim(0, 300) # set x tick limit to 300\n",
    "plt.xlabel(\"Length of the sentence\")\n",
    "plt.ylabel(\"Frequency\")\n",
    "plt.show()"
   ]
  },
  {
   "cell_type": "code",
   "execution_count": 23,
   "metadata": {},
   "outputs": [
    {
     "name": "stdout",
     "output_type": "stream",
     "text": [
      "15210 0.1832773018110834\n"
     ]
    },
    {
     "data": {
      "text/plain": [
       "['기대하며 누군가에게 마음을 주는 건 아니지만 이 밤 문득문득 내가 전했던 마음이 상대에게 닿지 않아 가끔은 쓸쓸하고 외롭다.\\n',\n",
       " '사랑했던 사람조차 떠나버리고 다시 또 홀로가 되어버린 난 둘이서 매일 걸었던 거리가 낯설게만 느껴졌다\\n',\n",
       " '당신이 아무리 올바른 길 위에 서 있다고 해도 제자리에 가만히 있는다면 어떤 목표도 이룰 수 없다.\\n',\n",
       " '그래서 너의 색은 이렇고 나의 색을 이럴 수밖에 없는 거니까. 하지만 그래서 재미있는 게 관계를 만들어나가는 과정이 아닐까.\\n',\n",
       " '믿었던 사람이 내 편이 아닐 때 위로받을 곳이 없다고 느낄 때 내 못난 모습을 감추려고 애쓸 때 나 혼자 잘해주고 상처받을 때 지금 있는 곳에서 내가 필요 없다고 느낄 때 반드시 이별해야 할 때\\n',\n",
       " '다시 여기 바닷가 이제는 말하고 싶어 네가 있었기에 내가 더욱 빛나 별이 되었다고 시간의 강을 건너 또 맞닿은 너와 나 소중한 사랑을 영원히 간직해줘 지난여름 바닷가 너와 나 단둘이 파도에 취해서 노래하며 같은 꿈을 꾸었지\\n',\n",
       " '당신의 말과 행동 모두 지나치지 않을게요 하지만 당신을 향한 제 사랑 표현은 지나칠 거예요\\n',\n",
       " '더는 할 말이 없어 다른 이유도 어떤 변명도 난 의미 없단 걸 알아 끝이란 게 다 그렇잖아\\n',\n",
       " '어떻게 보면 동생은 지금까지 살아온 삶 중에서 떠나는 준비를 하면서 더 열심히 살지 않았을까?\\n',\n",
       " '거짓말하지 말던가 무표정하게 돌아서곤 우는 건 들키지나 말던가 어둠을 틈타 집 앞을 서성이지 말던가 모르는 번호로 전화하고 말없이 끊지나 말던가 헤어졌으면 내 마음에 보이 지나 말던가\\n']"
      ]
     },
     "execution_count": 23,
     "metadata": {},
     "output_type": "execute_result"
    }
   ],
   "source": [
    "# get proportion of sentences where length is longer than 50\n",
    "length = 50\n",
    "list_long = list(filter(lambda x: len(x) > length, list_loaded))\n",
    "print(len(list_long) , len(list_long) / len(list_loaded))\n",
    "sampling(list_long, 10)"
   ]
  },
  {
   "cell_type": "markdown",
   "metadata": {},
   "source": [
    "### Remove Names from the sentences (Work in Progress)"
   ]
  },
  {
   "cell_type": "code",
   "execution_count": 18,
   "metadata": {},
   "outputs": [
    {
     "data": {
      "text/plain": [
       "[('데일 카네기', 'PERSON'), (' ', 'O'), ('인간관계론', 'THEORY')]"
      ]
     },
     "execution_count": 18,
     "metadata": {},
     "output_type": "execute_result"
    }
   ],
   "source": [
    "# using NER tagging function of pororo: https://kakaobrain.github.io/pororo/tagging/ner.html\n",
    "from pororo import Pororo\n",
    "ner = Pororo(task=\"ner\", lang=\"ko\")\n",
    "pos_tagged = ner('데일 카네기 인간관계론')\n",
    "pos_tagged"
   ]
  },
  {
   "cell_type": "code",
   "execution_count": 19,
   "metadata": {},
   "outputs": [],
   "source": [
    "from tqdm import tqdm\n",
    "from pororo import Pororo\n",
    "ner = Pororo(task=\"ner\", lang=\"ko\")\n",
    "\n",
    "sample_list = [\n",
    "    '감성 조각사 한웅',\n",
    "    '전송됨',\n",
    "    '요즘은 얼리버드라는 할인 상품도 많고',\n",
    "    '널 사랑하는 건 힘들지 않아 사랑하지 않는 게 힘든 거지 차돌',\n",
    "    '어쩌면 세상에서 진실로 두려워해야 하는 것은 눈이 있어도 아름다운 걸 볼 줄 모르고 귀가 있어도 음악을 듣지 않고 또 마음이 있어도 참된 것을 이해하지 못하고 감동하지도 못하며 더구나 가슴속의 열정을 불사르지도 못하는 그런 사람들이 아닐까 구로야나기 테스코  창가의 토토 중에서',\n",
    "]\n",
    "\n",
    "# filter \"PERSON\" tags from the list\n",
    "def filter_person(list_sentences:list) -> list:\n",
    "    \"\"\" takes too long :( \"\"\"\n",
    "    for item in tqdm(list_sentences):\n",
    "        list_pos_tagged = ner(item)\n",
    "        for string, pos_tag in list_pos_tagged:\n",
    "            if pos_tag == \"PERSON\":\n",
    "                list_sentences.remove(item)\n",
    "    return list_sentences\n",
    "\n",
    "# filter_person(sample_list)"
   ]
  },
  {
   "cell_type": "code",
   "execution_count": 20,
   "metadata": {},
   "outputs": [],
   "source": [
    "# check the distribution of the starting character of the list_poetic_sentences\n",
    "# \"가\", \"나\",\"다\" 등 시작하는 글자들에 따른 분포 확인할 필요 있음"
   ]
  }
 ],
 "metadata": {
  "interpreter": {
   "hash": "86cc1fc39ab6acfc9b98d188dcc233e58c381403d84a60c8a993907295df4c51"
  },
  "kernelspec": {
   "display_name": "Python 3.8.3 64-bit ('aitech': pyenv)",
   "language": "python",
   "name": "python3"
  },
  "language_info": {
   "codemirror_mode": {
    "name": "ipython",
    "version": 3
   },
   "file_extension": ".py",
   "mimetype": "text/x-python",
   "name": "python",
   "nbconvert_exporter": "python",
   "pygments_lexer": "ipython3",
   "version": "3.8.1"
  },
  "orig_nbformat": 4
 },
 "nbformat": 4,
 "nbformat_minor": 2
}
