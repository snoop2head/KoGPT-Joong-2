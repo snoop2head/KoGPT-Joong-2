{
 "cells": [
  {
   "cell_type": "markdown",
   "metadata": {},
   "source": [
    "### Read Korean Ballad Lyrics Dataset"
   ]
  },
  {
   "cell_type": "code",
   "execution_count": 2,
   "metadata": {},
   "outputs": [],
   "source": [
    "import os\n",
    "# designate root path for the data\n",
    "DATA_ROOT_PATH = \"./data\"\n",
    "\n",
    "# designate path for each dataset files\n",
    "LYRIC_PATH = os.path.join(DATA_ROOT_PATH, \"lyrics_kor.txt\")\n",
    "BILLBOARD_PATH = os.path.join(DATA_ROOT_PATH, \"rawdata_김지훈_201500844.tsv\")\n",
    "GEULSTAGRAM_PATH = os.path.join(DATA_ROOT_PATH, \"geulstagram.csv\")"
   ]
  },
  {
   "cell_type": "code",
   "execution_count": 3,
   "metadata": {},
   "outputs": [
    {
     "data": {
      "text/plain": [
       "['내 곁에서 떠나가지 말아요 \\n',\n",
       " '그대없는 밤은 너무 쓸쓸해 \\n',\n",
       " '그대가 더 잘 알고 있잖아요 \\n',\n",
       " '제발 아무말도 하지 말아요\\n',\n",
       " '나약한 내가 뭘 할수 있을까 생각을 해봐\\n',\n",
       " '그대가 내겐 전부였었는데 음~오 \\n',\n",
       " '제발 내 곁에서 떠나가지 말아요\\n',\n",
       " '그대없는 밤은 너무 싫어\\n',\n",
       " '우~우~우~ 돌이킬수 없는 그대 마음 \\n',\n",
       " '우~우~우~ 이제와서 다시 어쩌려나\\n']"
      ]
     },
     "execution_count": 3,
     "metadata": {},
     "output_type": "execute_result"
    }
   ],
   "source": [
    "# read txt file from line by line\n",
    "def read_txt(path):\n",
    "    with open(path, 'r', encoding='utf-8') as f:\n",
    "        lines = f.readlines()\n",
    "    return lines\n",
    "\n",
    "sample_lyrics = read_txt(LYRIC_PATH)[:10]\n",
    "sample_lyrics"
   ]
  },
  {
   "cell_type": "code",
   "execution_count": 4,
   "metadata": {},
   "outputs": [],
   "source": [
    "import pandas as pd\n",
    "import numpy as np\n",
    "\n",
    "# make sampling function from the list\n",
    "def sampling(list_lines:list, n:int) -> list:\n",
    "    # sampling\n",
    "    list_lines = np.random.choice(list_lines, n)\n",
    "    list_lines = list(list_lines)\n",
    "    return list_lines"
   ]
  },
  {
   "cell_type": "code",
   "execution_count": 5,
   "metadata": {},
   "outputs": [
    {
     "data": {
      "text/plain": [
       "['내 곁에서 떠나가지 말아요',\n",
       " '나약한 내가 뭘 할수 있을까 생각을 해봐',\n",
       " '제발 내 곁에서 떠나가지 말아요',\n",
       " '제발 아무말도 하지 말아요',\n",
       " '우~우~우~ 이제와서 다시 어쩌려나',\n",
       " '우~우~우~ 돌이킬수 없는 그대 마음',\n",
       " '그대없는 밤은 너무 싫어',\n",
       " '그대가 내겐 전부였었는데 음~오',\n",
       " '그대가 더 잘 알고 있잖아요',\n",
       " '그대없는 밤은 너무 쓸쓸해']"
      ]
     },
     "execution_count": 5,
     "metadata": {},
     "output_type": "execute_result"
    }
   ],
   "source": [
    "import re\n",
    "\n",
    "stopwords = [\n",
    "    \"사연을 읽어주는 여자\",\n",
    "    \"메시지 지금 동건 글\",\n",
    "    \"전송됨\",\n",
    "    \"가희 글\",\n",
    "    \"공유\",\n",
    "    \"댓글\",\n",
    "    \"오후\",\n",
    "    \"오전\"\n",
    "    \"등등\",\n",
    "    \"중략\",\n",
    "    \"신중근\",\n",
    "    \"신중군\"\n",
    "    \"글 사진\"\n",
    "]\n",
    "\n",
    "# make preprocessing function\n",
    "def preprocess(list_lines:list) -> list:\n",
    "    # remove \\n\n",
    "    removed_lines = [line.strip() for line in list_lines]\n",
    "\n",
    "    # filter stopwords from the line item in list_lines using regex\n",
    "    removed_lines = []\n",
    "    for line in list_lines:\n",
    "        for stopword in stopwords:\n",
    "            line = re.sub(stopword, '', line)\n",
    "        removed_lines.append(line)\n",
    "\n",
    "    # remove empty lines\n",
    "    removed_lines = [line for line in removed_lines if line]\n",
    "    \n",
    "    # remove duplicate elements from the removed_lines\n",
    "    removed_lines = list(set(removed_lines))\n",
    "\n",
    "    # strip whitespace\n",
    "    removed_lines = [sentence.strip() for sentence in removed_lines]\n",
    "\n",
    "    # remove tabs\n",
    "    removed_lines = [sentence.replace('\\t', '') for sentence in removed_lines]\n",
    "\n",
    "    # remove double spaces or longer spaces into single space\n",
    "    for i in range(2,5):\n",
    "        removed_lines = [sentence.replace(' '*i, ' ') for sentence in removed_lines]\n",
    "\n",
    "    # remove one letter items\n",
    "    removed_lines = [sentence for sentence in removed_lines if len(sentence) > 1]\n",
    "\n",
    "    return removed_lines\n",
    "\n",
    "preprocess(sample_lyrics)"
   ]
  },
  {
   "cell_type": "markdown",
   "metadata": {},
   "source": [
    "### Read Korean Billboard Song dataset"
   ]
  },
  {
   "cell_type": "code",
   "execution_count": 6,
   "metadata": {},
   "outputs": [
    {
     "name": "stdout",
     "output_type": "stream",
     "text": [
      "(2276, 5)\n"
     ]
    },
    {
     "data": {
      "text/html": [
       "<div>\n",
       "<style scoped>\n",
       "    .dataframe tbody tr th:only-of-type {\n",
       "        vertical-align: middle;\n",
       "    }\n",
       "\n",
       "    .dataframe tbody tr th {\n",
       "        vertical-align: top;\n",
       "    }\n",
       "\n",
       "    .dataframe thead th {\n",
       "        text-align: right;\n",
       "    }\n",
       "</style>\n",
       "<table border=\"1\" class=\"dataframe\">\n",
       "  <thead>\n",
       "    <tr style=\"text-align: right;\">\n",
       "      <th></th>\n",
       "      <th>ID</th>\n",
       "      <th>Year</th>\n",
       "      <th>Title</th>\n",
       "      <th>Singer</th>\n",
       "      <th>Lyric</th>\n",
       "    </tr>\n",
       "  </thead>\n",
       "  <tbody>\n",
       "    <tr>\n",
       "      <th>0</th>\n",
       "      <td>1</td>\n",
       "      <td>1964</td>\n",
       "      <td>동백아가씨</td>\n",
       "      <td>이미자</td>\n",
       "      <td>헤일 수 없이 수많은 밤을 내 가슴 도려내는 아픔에 겨워 얼마나 울었던가 동백아가씨...</td>\n",
       "    </tr>\n",
       "    <tr>\n",
       "      <th>1</th>\n",
       "      <td>2</td>\n",
       "      <td>1964</td>\n",
       "      <td>마도로스 부기</td>\n",
       "      <td>백야성</td>\n",
       "      <td>항구의 일~~번지 부기우기 일~번지 그라스를 채워~다오 부기우기 아~~가씨 고동이 ...</td>\n",
       "    </tr>\n",
       "    <tr>\n",
       "      <th>2</th>\n",
       "      <td>3</td>\n",
       "      <td>1964</td>\n",
       "      <td>이국땅</td>\n",
       "      <td>남일해</td>\n",
       "      <td>하룻밤 뱃길이면 가고 오건만 못 가는 이국땅에 서러움이 많 아현해탄 파도 위에 비친...</td>\n",
       "    </tr>\n",
       "  </tbody>\n",
       "</table>\n",
       "</div>"
      ],
      "text/plain": [
       "   ID  Year    Title Singer                                              Lyric\n",
       "0   1  1964    동백아가씨    이미자  헤일 수 없이 수많은 밤을 내 가슴 도려내는 아픔에 겨워 얼마나 울었던가 동백아가씨...\n",
       "1   2  1964  마도로스 부기    백야성  항구의 일~~번지 부기우기 일~번지 그라스를 채워~다오 부기우기 아~~가씨 고동이 ...\n",
       "2   3  1964      이국땅    남일해  하룻밤 뱃길이면 가고 오건만 못 가는 이국땅에 서러움이 많 아현해탄 파도 위에 비친..."
      ]
     },
     "execution_count": 6,
     "metadata": {},
     "output_type": "execute_result"
    }
   ],
   "source": [
    "# read and load from tsv\n",
    "df_billboard = pd.read_csv(BILLBOARD_PATH, sep='\\t')\n",
    "print(df_billboard.shape)\n",
    "df_billboard.head(3)"
   ]
  },
  {
   "cell_type": "code",
   "execution_count": 7,
   "metadata": {},
   "outputs": [
    {
     "data": {
      "text/html": [
       "<div>\n",
       "<style scoped>\n",
       "    .dataframe tbody tr th:only-of-type {\n",
       "        vertical-align: middle;\n",
       "    }\n",
       "\n",
       "    .dataframe tbody tr th {\n",
       "        vertical-align: top;\n",
       "    }\n",
       "\n",
       "    .dataframe thead th {\n",
       "        text-align: right;\n",
       "    }\n",
       "</style>\n",
       "<table border=\"1\" class=\"dataframe\">\n",
       "  <thead>\n",
       "    <tr style=\"text-align: right;\">\n",
       "      <th></th>\n",
       "      <th>ID</th>\n",
       "      <th>Year</th>\n",
       "      <th>Title</th>\n",
       "      <th>Singer</th>\n",
       "      <th>Lyric</th>\n",
       "    </tr>\n",
       "  </thead>\n",
       "  <tbody>\n",
       "    <tr>\n",
       "      <th>1832</th>\n",
       "      <td>1833</td>\n",
       "      <td>2011</td>\n",
       "      <td>여우야</td>\n",
       "      <td>투개월</td>\n",
       "      <td>창 밖엔 서글픈 비만 내려오네 내 마음 너무 안타까워 이제 다시 볼 수가 없기에 처...</td>\n",
       "    </tr>\n",
       "    <tr>\n",
       "      <th>1833</th>\n",
       "      <td>1834</td>\n",
       "      <td>2011</td>\n",
       "      <td>Lonely</td>\n",
       "      <td>2NE1</td>\n",
       "      <td>지금 내가 하는 얘기 널 아프게 할지 몰라 아마 날 죽도록 미워하게 될 꺼야 내가 ...</td>\n",
       "    </tr>\n",
       "    <tr>\n",
       "      <th>1834</th>\n",
       "      <td>1835</td>\n",
       "      <td>2011</td>\n",
       "      <td>나만 몰랐던 이야기</td>\n",
       "      <td>아이유</td>\n",
       "      <td>정말 넌 다 잊었더라 반갑게 날 보는 너의 얼굴 보니 그제야 어렴풋이 아파오더라 새...</td>\n",
       "    </tr>\n",
       "  </tbody>\n",
       "</table>\n",
       "</div>"
      ],
      "text/plain": [
       "        ID  Year       Title Singer  \\\n",
       "1832  1833  2011         여우야    투개월   \n",
       "1833  1834  2011      Lonely   2NE1   \n",
       "1834  1835  2011  나만 몰랐던 이야기    아이유   \n",
       "\n",
       "                                                  Lyric  \n",
       "1832  창 밖엔 서글픈 비만 내려오네 내 마음 너무 안타까워 이제 다시 볼 수가 없기에 처...  \n",
       "1833  지금 내가 하는 얘기 널 아프게 할지 몰라 아마 날 죽도록 미워하게 될 꺼야 내가 ...  \n",
       "1834  정말 넌 다 잊었더라 반갑게 날 보는 너의 얼굴 보니 그제야 어렴풋이 아파오더라 새...  "
      ]
     },
     "execution_count": 7,
     "metadata": {},
     "output_type": "execute_result"
    }
   ],
   "source": [
    "# filter by year where year is greater than 2015\n",
    "df_billboard_recent = df_billboard[df_billboard['Year'] > 2010]\n",
    "# remove row where Lyric contains \"청소년 보호법에 따라 성인 인증이 필요한 콘텐츠 입니다.\"\n",
    "df_billboard_recent = df_billboard_recent[df_billboard_recent['Lyric'].str.contains(\"청소년 보호법에 따라 성인 인증이 필요한 콘텐츠 입니다.\") == False]\n",
    "# display head of the dataframe\n",
    "df_billboard_recent.head(3)"
   ]
  },
  {
   "cell_type": "markdown",
   "metadata": {},
   "source": [
    "### Read Geulstagram dataset"
   ]
  },
  {
   "cell_type": "code",
   "execution_count": 8,
   "metadata": {},
   "outputs": [
    {
     "name": "stdout",
     "output_type": "stream",
     "text": [
      "(25179, 8)\n"
     ]
    },
    {
     "data": {
      "text/html": [
       "<div>\n",
       "<style scoped>\n",
       "    .dataframe tbody tr th:only-of-type {\n",
       "        vertical-align: middle;\n",
       "    }\n",
       "\n",
       "    .dataframe tbody tr th {\n",
       "        vertical-align: top;\n",
       "    }\n",
       "\n",
       "    .dataframe thead th {\n",
       "        text-align: right;\n",
       "    }\n",
       "</style>\n",
       "<table border=\"1\" class=\"dataframe\">\n",
       "  <thead>\n",
       "    <tr style=\"text-align: right;\">\n",
       "      <th></th>\n",
       "      <th>Unnamed: 0</th>\n",
       "      <th>USER_ID</th>\n",
       "      <th>Image_Content_txt</th>\n",
       "      <th>Image_Content_txt_result</th>\n",
       "      <th>Content_txt</th>\n",
       "      <th>Hashtags</th>\n",
       "      <th>Hashtags_result</th>\n",
       "      <th>Spell_Checked_Content</th>\n",
       "    </tr>\n",
       "  </thead>\n",
       "  <tbody>\n",
       "    <tr>\n",
       "      <th>0</th>\n",
       "      <td>0</td>\n",
       "      <td>1day1poem</td>\n",
       "      <td>XXL 칫솔은 새 것인데 솔질이 새 것 아니니 잇몸에 피가 난다. 저 뺏뻣한 것을 ...</td>\n",
       "      <td>칫솔은 새 것인데 솔질이 새 것 아니니 잇몸에 피가 난다. 저 뺏뻣한 것을 다 벌어...</td>\n",
       "      <td>칫솔은 새 것인데 솔질이 새 것 아니니 잇몸에 피가 난다.  저 뻣뻣한 것을 다 벌...</td>\n",
       "      <td>['가능하면1일1시', '190706', '임재건', '1일1시', '다시는사랑이없...</td>\n",
       "      <td>['자작시', '시', '시스타그램', '감성', '감성글', '공감', '공감글'...</td>\n",
       "      <td>칫솔은 새것인데 솔질이 새것 아니니 잇몸에 피가 난다. 저 뺏뻣한 것을 다 벌어진 ...</td>\n",
       "    </tr>\n",
       "    <tr>\n",
       "      <th>1</th>\n",
       "      <td>1</td>\n",
       "      <td>1day1poem</td>\n",
       "      <td>아무도 미워하지 않으니 아무도좋다지 않는다. 요즘은 미운 것이 같아야 벗이라더라. ...</td>\n",
       "      <td>아무도 미워하지 않으니 아무도좋다지 않는다. 요즘은 미운 것이 같아야 벗이라더라. ...</td>\n",
       "      <td>아무도 미워하지 않으니 아무도 좋다지 않는다.  요즘은 미운 것이 같아야 벗이라더라...</td>\n",
       "      <td>['가능하면1일1시', '190701', '임재건', '다시는사랑이없을줄알았습니다'...</td>\n",
       "      <td>['벗', '혐오', '호불호', '자작시', '시', '시스타그램', '감성', ...</td>\n",
       "      <td>아무도 미워하지 않으니 아무도 좋다지 않는다. 요즘은 미운 것이 같아야 벗이라더라....</td>\n",
       "    </tr>\n",
       "    <tr>\n",
       "      <th>2</th>\n",
       "      <td>2</td>\n",
       "      <td>1day1poem</td>\n",
       "      <td>어제 초승이던 것이 오늘 보름이겠느냐만 너는 밤하늘 둥근 빛이라도 달은 아니므로 벌...</td>\n",
       "      <td>어제 초승이던 것이 오늘 보름이겠느냐만 너는 밤하늘 둥근 빛이라도 달은 아니므로 벌...</td>\n",
       "      <td>어제 초승이던 것이 오늘 보름이겠느냐만  너는 밤하늘 둥근 빛이라도 달은 아니므로 ...</td>\n",
       "      <td>['가능하면1일1시', '190807', '임재건', '1일1시', '다시는사랑이없...</td>\n",
       "      <td>['달달', '달', '초승달', '보름달', '밤', '하늘', '자작시', '시...</td>\n",
       "      <td>어제 초승이던 것이 오늘 보름이겠느냐만 너는 밤하늘 둥근 빛이라도 달은 아니므로 벌...</td>\n",
       "    </tr>\n",
       "  </tbody>\n",
       "</table>\n",
       "</div>"
      ],
      "text/plain": [
       "   Unnamed: 0    USER_ID                                  Image_Content_txt  \\\n",
       "0           0  1day1poem  XXL 칫솔은 새 것인데 솔질이 새 것 아니니 잇몸에 피가 난다. 저 뺏뻣한 것을 ...   \n",
       "1           1  1day1poem  아무도 미워하지 않으니 아무도좋다지 않는다. 요즘은 미운 것이 같아야 벗이라더라. ...   \n",
       "2           2  1day1poem  어제 초승이던 것이 오늘 보름이겠느냐만 너는 밤하늘 둥근 빛이라도 달은 아니므로 벌...   \n",
       "\n",
       "                            Image_Content_txt_result  \\\n",
       "0  칫솔은 새 것인데 솔질이 새 것 아니니 잇몸에 피가 난다. 저 뺏뻣한 것을 다 벌어...   \n",
       "1  아무도 미워하지 않으니 아무도좋다지 않는다. 요즘은 미운 것이 같아야 벗이라더라. ...   \n",
       "2  어제 초승이던 것이 오늘 보름이겠느냐만 너는 밤하늘 둥근 빛이라도 달은 아니므로 벌...   \n",
       "\n",
       "                                         Content_txt  \\\n",
       "0  칫솔은 새 것인데 솔질이 새 것 아니니 잇몸에 피가 난다.  저 뻣뻣한 것을 다 벌...   \n",
       "1  아무도 미워하지 않으니 아무도 좋다지 않는다.  요즘은 미운 것이 같아야 벗이라더라...   \n",
       "2  어제 초승이던 것이 오늘 보름이겠느냐만  너는 밤하늘 둥근 빛이라도 달은 아니므로 ...   \n",
       "\n",
       "                                            Hashtags  \\\n",
       "0  ['가능하면1일1시', '190706', '임재건', '1일1시', '다시는사랑이없...   \n",
       "1  ['가능하면1일1시', '190701', '임재건', '다시는사랑이없을줄알았습니다'...   \n",
       "2  ['가능하면1일1시', '190807', '임재건', '1일1시', '다시는사랑이없...   \n",
       "\n",
       "                                     Hashtags_result  \\\n",
       "0  ['자작시', '시', '시스타그램', '감성', '감성글', '공감', '공감글'...   \n",
       "1  ['벗', '혐오', '호불호', '자작시', '시', '시스타그램', '감성', ...   \n",
       "2  ['달달', '달', '초승달', '보름달', '밤', '하늘', '자작시', '시...   \n",
       "\n",
       "                               Spell_Checked_Content  \n",
       "0  칫솔은 새것인데 솔질이 새것 아니니 잇몸에 피가 난다. 저 뺏뻣한 것을 다 벌어진 ...  \n",
       "1  아무도 미워하지 않으니 아무도 좋다지 않는다. 요즘은 미운 것이 같아야 벗이라더라....  \n",
       "2  어제 초승이던 것이 오늘 보름이겠느냐만 너는 밤하늘 둥근 빛이라도 달은 아니므로 벌...  "
      ]
     },
     "execution_count": 8,
     "metadata": {},
     "output_type": "execute_result"
    }
   ],
   "source": [
    "df_geulstagram = pd.read_csv(GEULSTAGRAM_PATH)\n",
    "print(df_geulstagram.shape)\n",
    "df_geulstagram.head(3)"
   ]
  },
  {
   "cell_type": "code",
   "execution_count": 9,
   "metadata": {},
   "outputs": [
    {
     "data": {
      "text/plain": [
       "Unnamed: 0                    0\n",
       "USER_ID                       0\n",
       "Image_Content_txt             0\n",
       "Image_Content_txt_result     30\n",
       "Content_txt                   0\n",
       "Hashtags                      0\n",
       "Hashtags_result               0\n",
       "Spell_Checked_Content       616\n",
       "dtype: int64"
      ]
     },
     "execution_count": 9,
     "metadata": {},
     "output_type": "execute_result"
    }
   ],
   "source": [
    "# check non null items in the dataframe\n",
    "df_geulstagram.isnull().sum()"
   ]
  },
  {
   "cell_type": "code",
   "execution_count": 10,
   "metadata": {},
   "outputs": [],
   "source": [
    "# drop null items\n",
    "df_geulstagram.dropna(inplace=True)"
   ]
  },
  {
   "cell_type": "markdown",
   "metadata": {},
   "source": [
    "### Concatanate Ballad, Billboard, Geulstagram into one list"
   ]
  },
  {
   "cell_type": "code",
   "execution_count": 11,
   "metadata": {},
   "outputs": [
    {
     "name": "stdout",
     "output_type": "stream",
     "text": [
      "87342\n"
     ]
    },
    {
     "data": {
      "text/plain": [
       "['그 믿음조차 무색한 것은\\n',\n",
       " '\\n',\n",
       " '화를내다 웃고마는\\n',\n",
       " '\\n',\n",
       " '작은 슬픔은 지금은 모두 안녕\\n',\n",
       " '그대를 바랄볼 수 있는 것만으로\\n',\n",
       " '깜깜한 우린 달콤한 열매를 나눠먹고 이곳에 누워 눈을 감는다 내 옆에서 작게 숨 쉬는 너의 존재는 달도 없고 별도 없는 깊은 심해 속으로 나를 데려가 수천 톤의 수압보다 무거운 이불을 덮고 너와 나만이 있는 영원한 잠을 나는 자고 싶어라',\n",
       " '시간은 멀어짐으로 향해 가는데\\n',\n",
       " '오늘도 내 가슴에\\n',\n",
       " '그 사람의 대한 기대를 하게 되면 기대한 만큼 실망이 크다 실망 이명국']"
      ]
     },
     "execution_count": 11,
     "metadata": {},
     "output_type": "execute_result"
    }
   ],
   "source": [
    "list_poetic_sentences = []\n",
    "\n",
    "# load lists\n",
    "list_lyrics = read_txt(LYRIC_PATH)\n",
    "list_billboard = df_billboard_recent['Lyric'].tolist()\n",
    "list_geulstagram = df_geulstagram['Spell_Checked_Content'].tolist()\n",
    "\n",
    "# concatenate lists\n",
    "list_poetic_sentences = list_lyrics + list_billboard + list_geulstagram\n",
    "print(len(list_poetic_sentences))\n",
    "\n",
    "sampling(list_poetic_sentences, 10)"
   ]
  },
  {
   "cell_type": "code",
   "execution_count": 12,
   "metadata": {},
   "outputs": [
    {
     "name": "stderr",
     "output_type": "stream",
     "text": [
      "  0%|          | 0/10 [00:00<?, ?it/s][Korean Sentence Splitter]: Initializing Pynori...\n",
      "100%|██████████| 10/10 [00:12<00:00,  1.29s/it]"
     ]
    },
    {
     "name": "stdout",
     "output_type": "stream",
     "text": [
      "10\n"
     ]
    },
    {
     "name": "stderr",
     "output_type": "stream",
     "text": [
      "\n"
     ]
    },
    {
     "data": {
      "text/plain": [
       "['그대가 내겐 전부였었는데 음~오',\n",
       " '나약한 내가 뭘 할수 있을까 생각을 해봐',\n",
       " '제발 아무말도 하지 말아요',\n",
       " '그대없는 밤은 너무 싫어',\n",
       " '그대가 더 잘 알고 있잖아요',\n",
       " '우~우~우~ 돌이킬수 없는 그대 마음',\n",
       " '그대없는 밤은 너무 쓸쓸해',\n",
       " '제발 내 곁에서 떠나가지 말아요',\n",
       " '내 곁에서 떠나가지 말아요',\n",
       " '우~우~우~ 이제와서 다시 어쩌려나']"
      ]
     },
     "execution_count": 12,
     "metadata": {},
     "output_type": "execute_result"
    }
   ],
   "source": [
    "import kss\n",
    "from tqdm import tqdm\n",
    "\n",
    "def break_sentence(list_sentences:list) -> list:\n",
    "    \"\"\" \n",
    "    break the string items of the into sentences (sentence segmentation)\n",
    "    \"\"\"\n",
    "    \n",
    "    # strip whitespace\n",
    "    list_sentences = [sentence.strip() for sentence in list_sentences]\n",
    "\n",
    "    # remove \\n\n",
    "    list_sentences = [sentence.replace('\\n', '') for sentence in list_sentences]\n",
    "\n",
    "    # drop empty items\n",
    "    list_sentences = [sentence for sentence in list_sentences if sentence]\n",
    "\n",
    "    sentence_list = []\n",
    "    \n",
    "    # split string item into sublist\n",
    "    # https://github.com/hyunwoongko/kss/\n",
    "    for item in tqdm(list_sentences):\n",
    "        item = kss.split_sentences(\n",
    "            item, # batch input rather than single string\n",
    "            backend = \"pynori\", # default is pynori. mecab 5x is faster than pynori: https://github.com/hyunwoongko/kss/blob/main/docs/ANALYSIS.md#11-open-ended-segmentation\n",
    "            num_workers = -1, # use maximum workers as possible\n",
    "            use_heuristic = True\n",
    "            )\n",
    "        sentence_list.extend(item)\n",
    "\n",
    "    # apply preprocessing function for each item in line_sentences\n",
    "    sentence_list = preprocess(sentence_list)\n",
    "\n",
    "    # drop empty items\n",
    "    sentence_list = [sentence for sentence in sentence_list if sentence]\n",
    "\n",
    "    # drop duplicate items\n",
    "    sentence_list = list(set(sentence_list))\n",
    "\n",
    "    return sentence_list\n",
    "\n",
    "sample_sentences = break_sentence(list_poetic_sentences[:10])\n",
    "print(len(sample_sentences))\n",
    "sample_sentences"
   ]
  },
  {
   "cell_type": "code",
   "execution_count": 13,
   "metadata": {},
   "outputs": [
    {
     "name": "stderr",
     "output_type": "stream",
     "text": [
      "100%|██████████| 79483/79483 [8:28:09<00:00,  2.61it/s]\n"
     ]
    },
    {
     "data": {
      "text/plain": [
       "82989"
      ]
     },
     "execution_count": 13,
     "metadata": {},
     "output_type": "execute_result"
    }
   ],
   "source": [
    "# 8 hours(est) per 80000 sentences when using pynori tokenizer\n",
    "breaken_down_sentences = break_sentence(list_poetic_sentences)\n",
    "len(breaken_down_sentences)"
   ]
  },
  {
   "cell_type": "code",
   "execution_count": 14,
   "metadata": {},
   "outputs": [],
   "source": [
    "# save the list of sentences to a txt file\n",
    "with open(os.path.join(DATA_ROOT_PATH, \"poetic_sentences_kor.txt\"), 'w', encoding='utf-8') as f:\n",
    "    for sentence in breaken_down_sentences:\n",
    "        f.write(sentence + '\\n')\n"
   ]
  },
  {
   "cell_type": "markdown",
   "metadata": {},
   "source": [
    "### EDA (Work in Progress)"
   ]
  },
  {
   "cell_type": "code",
   "execution_count": 15,
   "metadata": {},
   "outputs": [
    {
     "data": {
      "text/plain": [
       "82989"
      ]
     },
     "execution_count": 15,
     "metadata": {},
     "output_type": "execute_result"
    }
   ],
   "source": [
    "# read dataset from poetic_sentences_kor.txt\n",
    "path = os.path.join(DATA_ROOT_PATH, \"poetic_sentences_kor.txt\")\n",
    "list_loaded = read_txt(path)\n",
    "len(list_loaded)"
   ]
  },
  {
   "cell_type": "code",
   "execution_count": 22,
   "metadata": {},
   "outputs": [
    {
     "data": {
      "image/png": "[encoded data removed]",
      "text/plain": [
       "<Figure size 432x288 with 1 Axes>"
      ]
     },
     "metadata": {
      "needs_background": "light"
     },
     "output_type": "display_data"
    }
   ],
   "source": [
    "import matplotlib.pyplot as plt\n",
    "import seaborn as sns\n",
    "\n",
    "# check the length distribution of the list with x ticks divided by 10 characters\n",
    "plt.hist(list(map(len, list_loaded)), bins=np.arange(0, max(list(map(len, list_loaded)))+1, 10))\n",
    "plt.xlim(0, 300) # set x tick limit to 300\n",
    "plt.xlabel(\"Length of the sentence\")\n",
    "plt.ylabel(\"Frequency\")\n",
    "plt.show()"
   ]
  },
  {
   "cell_type": "code",
   "execution_count": 23,
   "metadata": {},
   "outputs": [
    {
     "name": "stdout",
     "output_type": "stream",
     "text": [
      "15210 0.1832773018110834\n"
     ]
    },
    {
     "data": {
      "text/plain": [
       "['기대하며 누군가에게 마음을 주는 건 아니지만 이 밤 문득문득 내가 전했던 마음이 상대에게 닿지 않아 가끔은 쓸쓸하고 외롭다.\\n',\n",
       " '사랑했던 사람조차 떠나버리고 다시 또 홀로가 되어버린 난 둘이서 매일 걸었던 거리가 낯설게만 느껴졌다\\n',\n",
       " '당신이 아무리 올바른 길 위에 서 있다고 해도 제자리에 가만히 있는다면 어떤 목표도 이룰 수 없다.\\n',\n",
       " '그래서 너의 색은 이렇고 나의 색을 이럴 수밖에 없는 거니까. 하지만 그래서 재미있는 게 관계를 만들어나가는 과정이 아닐까.\\n',\n",
       " '믿었던 사람이 내 편이 아닐 때 위로받을 곳이 없다고 느낄 때 내 못난 모습을 감추려고 애쓸 때 나 혼자 잘해주고 상처받을 때 지금 있는 곳에서 내가 필요 없다고 느낄 때 반드시 이별해야 할 때\\n',\n",
       " '다시 여기 바닷가 이제는 말하고 싶어 네가 있었기에 내가 더욱 빛나 별이 되었다고 시간의 강을 건너 또 맞닿은 너와 나 소중한 사랑을 영원히 간직해줘 지난여름 바닷가 너와 나 단둘이 파도에 취해서 노래하며 같은 꿈을 꾸었지\\n',\n",
       " '당신의 말과 행동 모두 지나치지 않을게요 하지만 당신을 향한 제 사랑 표현은 지나칠 거예요\\n',\n",
       " '더는 할 말이 없어 다른 이유도 어떤 변명도 난 의미 없단 걸 알아 끝이란 게 다 그렇잖아\\n',\n",
       " '어떻게 보면 동생은 지금까지 살아온 삶 중에서 떠나는 준비를 하면서 더 열심히 살지 않았을까?\\n',\n",
       " '거짓말하지 말던가 무표정하게 돌아서곤 우는 건 들키지나 말던가 어둠을 틈타 집 앞을 서성이지 말던가 모르는 번호로 전화하고 말없이 끊지나 말던가 헤어졌으면 내 마음에 보이 지나 말던가\\n']"
      ]
     },
     "execution_count": 23,
     "metadata": {},
     "output_type": "execute_result"
    }
   ],
   "source": [
    "# get proportion of sentences where length is longer than 50\n",
    "length = 50\n",
    "list_long = list(filter(lambda x: len(x) > length, list_loaded))\n",
    "print(len(list_long) , len(list_long) / len(list_loaded))\n",
    "sampling(list_long, 10)"
   ]
  },
  {
   "cell_type": "code",
   "execution_count": 26,
   "metadata": {},
   "outputs": [
    {
     "name": "stdout",
     "output_type": "stream",
     "text": [
      "7821 0.09424140548747424\n"
     ]
    },
    {
     "data": {
      "text/plain": [
       "['너의 아름다운 모습을 보고 잠시 욕심이 생겨 너를 꺾어 꽃병에 꽃아두었더니 너는 이내 시들고 말더라 경요 영혼의 사랑 욕심 중에서\\n',\n",
       " '누군가는 날 믿어주고 응원해주는 사람이 있으니까 자신을 보고 믿어주는 사람들도 있으니까. 이 마음을 받았으니 나는 또 희망을 갖고 사 아가다 살아간ㄷ\\n',\n",
       " '언제 떨어질지 모르는 아슬아슬한 물방울 같은 행복 사람들은 모른다 자신에 손에 행복이란 놈을 잡고 있으면서도 깨닫지 못하고 다른대서 행복을 찾으려고 한다 행복이란 그 국 누가 지켜주는 것이 아니다 자기 자신이 스스로 지켜야 하는 것이다 순간 방황하면 툭 치면 떨어져 버린다\\n',\n",
       " '이별의 능력이란.. 먼저 이별할 수 있는 능력이고 다음은 그 후유증을 견디는 능력이고 마침내 자아를 살육하는 부재와 고요히 다가오는 심장마비를 극복하는 능력이다.\\n',\n",
       " '서로에 대해 알아가는 좀 더 험난한 과정을 회피하는 방법으로 누군가와 섹스를 나누는 것은 마치 책을 사두고 그것을 읽었다고 착각하는 것과 같다 알랭 드 보통 키스하기 전에 우리가 하는 말들 중에서\\n',\n",
       " '그대가 생각하고 있는 것처럼 이 사람은 제자리걸음이에요 한데 중요한 건 이 사람은 아주 조금씩 가고 있다는 긍정적인 생각으로 자기 길을 묵묵히 걸어가고 있다는 것이죠.\\n',\n",
       " '아무리 바쁘고 힘들어도 꿈을 좇던 초심을 일상의 소소한 행복을 지금 곁에 있는 소중한 누군가를 잃어버리지 않는 사람이 되기를.\\n',\n",
       " '난 살짝 설렜어 난 oh nanananana 살짝 설렜어 난 oh nanananana 그럴 일 없지만 살짝 설렜어 난 nonstop nonstop nonstop nonstop nonstop 그럴 일 없지만 살짝 설렜어 난 nonstop nonstop nonstop nonstop nonstop 넌 알 리 없지만 살짝 설렜어\\n',\n",
       " '우리의 삶에 대한 그분의 감추어진 뜻을 찾아내 는 것이 아니라 날마다 그분을 믿고 신뢰하면서 그분 앞에서 살아가는 것이야말로 신앙생활의 참된 본질이라는 것을 분명하게 일깨워준다.\\n',\n",
       " '이렇게 가지마 너 마저 버리면 난 죽어버릴 텐데 I’m not a monster 무슨 일이 있어도 영원하자고 슬플 때도 기쁠 때도 끝까지 하자고 You don’t say that tomorrow 오늘이 마지막인 것처럼 사랑하자고 너 없는 삶은 종신형 세상과 단절돼 돌 지경이야\\n']"
      ]
     },
     "execution_count": 26,
     "metadata": {},
     "output_type": "execute_result"
    }
   ],
   "source": [
    "# get proportion of sentences where length is longer than 70\n",
    "length = 70\n",
    "list_long = list(filter(lambda x: len(x) > length, list_loaded))\n",
    "print(len(list_long) , len(list_long) / len(list_loaded))\n",
    "sampling(list_long, 10)"
   ]
  },
  {
   "cell_type": "code",
   "execution_count": 28,
   "metadata": {},
   "outputs": [
    {
     "name": "stdout",
     "output_type": "stream",
     "text": [
      "11601 0.13978961067129378\n"
     ]
    },
    {
     "data": {
      "text/plain": [
       "['나와 한껏 젖은 마음 이 마음 마르기 전에 메모장에서 끄적거린다 젖은 마음 말라가며 저녁과 함께 마신. 소주 한 병의 여운으로 잠을 허락한다 궁금하다.\\n',\n",
       " '그래도 좋다 최근 구글에 현대시 작법 따위를 검색해서 읽어봤는데 내가 썼던 글자 나부랭이들은 시가 아니었음을 알게 되었다\\n',\n",
       " '캄캄한 여기 이 세상 가장 무거운 추 하나 가슴 바닥에 내려지고 우두커니 주저앉은 정지된 한 생애 잿빛 침묵의 옷 길고 무거워 표정 없는 녹슨 얼굴은 낡아가겠네\\n',\n",
       " '굳이 말하지 않아도 시작할 수 있었던 사랑이 애써 말하지 않으면 끝맺을 수 없었던 이별로. 사랑이 가지고 있는 그 슬프고도 잔인한 단면.\\n',\n",
       " '인생은 한 권의 책과 같다 어리석은 사람은 책장을 대충 넘기지만 현명한 사람은 공들 더 읽는다 그들은 단 한 번밖에 읽지 못한다는 것을 알기 때문이다\\n',\n",
       " '말은 참 좋아 사람을 안심 시킬까 근데 행동은 말처럼 깨끗하지 못해 나는 그 사람의 연기에 속아 넘어갔고 꼭두각시처럼 내기가 그 사람을 대신해 나쁜 사람이 돼버렸어\\n',\n",
       " '다시 살아갈 수 있는 힘이 되어주는 것 애벌레가 아름다운 건 나비가 될 수 있을지도 모른다는 희망 때문일 거야\\n',\n",
       " '벙어리처럼 침묵하고 임금처럼 말하며 눈처럼 냉정하고 불처럼 뜨거워라. 태산 같은 자부심을 갖고 누운 풀처럼 자기를 낮추어라.\\n',\n",
       " '마음이 기운다는 표현에 문득 마음이 기운다 기우는 것은 내려앉고 쏟아진다 그것을 받아줄 사람이 없다\\n',\n",
       " '사람은 누구나 자기 삶에서 의미 있는 일을 찾지 못할 때 다른 누군가가 자신을 필요로 해주기를 바라며 남의 인생에 개입하는 경향이 있다고 한다.\\n']"
      ]
     },
     "execution_count": 28,
     "metadata": {},
     "output_type": "execute_result"
    }
   ],
   "source": [
    "# get proportion of sentences where length is between 50 and 70\n",
    "min_length = 50\n",
    "max_length = 100\n",
    "list_long = list(filter(lambda x: len(x) > min_length and len(x) < max_length, list_loaded))\n",
    "print(len(list_long) , len(list_long) / len(list_loaded))\n",
    "sampling(list_long, 10)"
   ]
  },
  {
   "cell_type": "code",
   "execution_count": 32,
   "metadata": {},
   "outputs": [
    {
     "name": "stderr",
     "output_type": "stream",
     "text": [
      "100%|██████████| 100/100 [00:42<00:00,  2.34it/s]"
     ]
    },
    {
     "name": "stdout",
     "output_type": "stream",
     "text": [
      "100\n",
      "['아 내 왕자님 언제 이 몸을 구하러 와 주실 텐가요 하얀 꿈처럼 날 품에 안아 올려 날아가 주시겠죠', 'eh 네 사연 속에 나오는 쓰레기 걔랑은 비교도 안되게 내가 잘할게 왜냐면 넌 나고 난 너야', '살아내기로 결심하는 건 두려웠고 무서웠는데 막상 머리에 있는 걸 마음으로 내려보는 작업을 하니 그간 삶에 궁금한 무수한 물음표들이 십분의이라도 느낌표가 되어줬어.', '나의 이 한 마디가 너의 선택을 다독이고 나를 좋은 기억으로 남길 수 있다면 나는 몇 번이라도 말할 수 있어.', '나는 네가 억지로 힘내지 않아도 좋으니까 잘하지 않아도 괜찮으니까 너무 힘들고 지치면 그만했으면 좋겠어.', '멋지고 아름답지만 아프다는 걸 알기에 늘 두려운 언젠가 후회가 찾아오더라도 깨끗이 지워내기 힘든 그것.', '하루만 못 보는 것인데 너의 따뜻한 온기와 빈자리가 크게 느껴지고 네가 오고 간 흔적을 치우지 않았다 치워버리면 네가 오지 않을 생각에 지나간 글', '그럼 엄마는 이제 두 배로 행복해지겠다 엄마와 아이의 웃음소리에 오늘 하루는 맑은 마음으로 보낼 수 있을 것 같았다.', '지금의 나는 내 인생이 가장 중요하고 저금 춘간 순간의 행복을 즐기는 것이 조하. 그러니까 걱정 마 그러니까 면이 떠나.', '반성을 거듭하면 발전을 기약할 수 있지만 후회를 반복하면 바보 취급을 당할 수 있으니 너무 잦은 후회는 인생에 별로 도움이 되지 않는다.', '남들과 비교하며 불안해한다고 해서 더 빠르게 이루는 것도 더 많은 것을 이루는 것도 아니었다.', '분홍빛으로 물든 하늘의 색과 바람 냄새. 너와 나의 간격 내 마음의 온도. 모든 게 참 적당한 날이었어.', '네가 잘하는 것 하면 할수록 더 하고 싶은 그걸 하면 돼 대신 열입히 그리고 즐겁게 사랑은 상처를 허락하는 것이다', '좋은 삶을 살아가려면 그래서 좋은 죽음을 맞이하려면 자신에게 어떤 봉사를 해왔는가?라고 물으면서 무조건적인 사랑이라는 목표를 선택하라고 나는 말한다.', '사랑한다는 게 무서운 게 아니라 사람이 무서운 거다 사랑한다는 게 겁나는 게 아니라 어느 순간 변해버리는 사람이 겁나는 거다 사랑은 변하지 않는다 사람이 변하는 것이다', '이사라는 글의 글감은 유독 사연이 많은 듯하다 일기장 같은 수많은 글들 그만큼 집이라는 것은 우리에게 중요한 삶의 안식처겠지', '때로 그것이 너무 무거워 주머니에 넣고 다니기 힘들 때는 가까운 친구에게 잠시 맡기기도 할 것이다.', '그 사정을 다 알기 전까진 이렇다 저렇다 말하면 안 되는 거고. 너만 해도 그런 거 하나쯤은 있을 거 아냐.', '이별로 다시는 떠올리고 싶지 않던 시간이 그래 도 좋았던 기억 사랑받았던 추억으로 남게 된다.', '상대가 내 품에 기대는 것만으로도 삶의 커다란 휴식이 될 만큼. 정운 내가 사랑했고 네가 잊은 순간들 사랑의 의미 중에서', '밤에 감성을 찾는 이유는 이성의 끈을 놓지 않고서 벌건 대낮을 견딜 수 없었기 때문입니다.', '이별이란 너와 내가 맺은 관계의 매듭을 푸는 일. 치열하게 사랑했던 우리가 이토록 헤어지기 어려운 이유야.', '그래서 우리는 그런 것들이 사라질 때 중 반 시간가량을 잃은 것만 같다 기억된 느낌과 사라진 존재가 먹어버린 반 시간은 가슴 한곳을 잃었다 생각 들게 했다.', '지하철에서 책 읽는 아가씨 하늘아이 지하철 한자리 차지하고 앉은 대학생쯤으로 보이는 아가씨 다소곳이 앉은 무릎 위에 책이 훨짝 펴 있다.', '라는 아쉬 웅도 함께 내뱉게 되는 사랑. 가끙은 이치게 보고 싶기도 하는 그런 사랑으로. 책 너에게 중에서. 안 글', '처음 세상에 온 별 하나가 그날 밤 가득 내 눈썹 한끝에 어린 꽃나무들을 데려다주었다 날마다 그 꽃나무들 위에 비가 내리기 시작했다', '넌 계속 그렇게 살던지 난 계속 이렇게 살 테니 전하진 내가 얼마나 만만해 보였으면 중에서', '네가 부족하고 못난 사람이라서가 아니라 모두에게 있는 일이야. 고 매력 괜찮다고 말하기 전에 중에서..', '일상생활에서 사사건건 불평을 늘어놓는 사람은 사실 무엇인가 다른 대상에 불만의 원인을 가지고 있다.', '. 빗소리가 마치 타박타박 내게로 뜀박질하는 넌 줄만 알고 나는 몇 번이고 뒤돌아보기 일쑤였다.', '누군가에게는 웃으며 이야기할 수 있고 또 어느 누군가에게는 뜨거운 눈물을 삼키며 이야기할 수 있는 너무나도 설레지만 잔인한 그 말 안녕 안녕', '우리 서로 아플 만큼 아팠고 힘들 만큼 힘들었으니까 행복하게 해주고 싶었는데 나는 그런 사람이 되어 주지 못하니까 네가 행복할 수 있도록 이제는 그만 너를 놓아주기로 했다', '개울가에 우는 개구리 풀숲으로 뛰는 메뚜기 메뚜기 뛴 자리 살랑 살랑하니 우는 것도 가는 것도 남은 것마저 여름은 무성한 짙은 초록빛 여름 색 여름', '라이트하우스가 없는 세계에서 각자가 자신의 라이프가드가 되어야만 하는 우리 모두의 이름은 이 세 안느의 이름 중 하나와 같다.', '행복은 소심하고 질투가 많아서 샤워기 헤르만 바꿔도 샘이 나서 찾아와 그러니까 수능 보고 자살하지 말고 샤워기 헤드부터 바꿔봐', '월요일. 월 시 간 잘 간 다 요에 월 지 일 막 돈을 다 더 워 서에 어 된 엄 청 자 야', '이렇게 가다간 영영 놓쳐버릴까 노심초사하는 마음에 뭐라도 해보려는데 영 풀리지 않는 인생 인생이 뭐 별거냐는 사람들의 말에 그래 나는 잠시 별거하기로 했다.', '못다 한 일이 아쉽고 못다 이룬 사랑이 그립다 옆에 있을 땐 몰랐던 누군가가 떠나면 그 서줌 함이 새록새록 묻어난다', '밤이라 빛을 구하고 목이 말라 물을 찾는 것과 달리 내 많아 좋은 것이 있다던 오직 그대뿐이다.', '여전히 끝 모를 터널에 있지만 그래도 저는 지금 이 순간 행복합니다. 하지만 어리석었습니다.', '널 만나기 전에는 빨간색 불빛 널 만나고 나서는 초록색 불빛 너를 만나고 나니 세상이 온통 초록색으로 물들어 보이네.', '오롯이 일곱 번째 스무 살을 보내는 여덟 번째 스무 살을 기다리는 지금의 나는 한 뼘만큼 더 자랐다.', '성숙하지 못한 사랑은 그대가 필요하기 때문에 나는 그대를 사랑한다는 것이지만 성숙한 사랑은 그대를 사랑하기 때문에 나에게는 그대가 필요하다는 것이다.', '이 바다를 너와 함께 너와 함께 오 바다 이 조명에 담긴 아름다운 얘기가 있어 네게 들려주고파 전활 걸어', '무명의 후배들에게 전 한 따스한 격려 그냥 연기하는 순간이 좋았다면 생각했 던 대로 해라.', '열 번 찍기도 전에 한두 번 찍고 안 넘어가겠지라는 생각 때문에 미련하게 포기한다 열 번 찍어 안 넘어가는 나무 없다.', '황홀한 느낌을 느껴본 적 없는데 보면 볼수록 너에게 적절한 표현인 것 같아 선하게 웃는 네가 떠오를 때마다 경험해 본 적 없는 늪에 빠지고 있어 차돌', '4.이 기상과 이 맘으로 충성을 다하여 괴로우나 즐거우나 나라 사랑하세 무궁화 삼천리 화려강산 대한 사람 대한으로 길이 보전하세', '내가 냉담한 척하면 사람들은 나를 냉담한 녀석이라고 수군댔다. 하지만 내가 정말 괴로워 나도 모르게 신음소리를 냈을 때 사람들은 나를 괴로운 척한다고 수군댔다.', '내 안에 흑과 백 맞물려 쳇바퀴 돌아가듯 돌아가 제 켈 박사와 하이드 빛과 어둠 해와 달 선과 악 꿈과 현실 월식과 개기월식 태양과 일곱 빛깔 무지개 햇빛과 실루엣', '즉 목표를 이루더라도 삶은 계속되고 목적 목표는 얼마든지 더 상 위 개념의 것으로 바뀔 수 있다.', '혹시나 내가 주는 사랑이 부족하지 않을까 걱정도 많이 되지만 내가 많이 표현하고 더 노력할게 늘 항상 곁에 있어 줘서 고마워 사랑해', '저 산은 내게 우지 마라 우지 마라 하고 발아래 젖은 계곡 첩첩산중 저 산은 내게 잊으라 잊어버리라 하고 내 가슴을 쓸어내리네', '힘들 때 곁에 있어주는 친구도 좋은 친구이고 대단한 친구이지만 무엇보다도 자신이 잘 됐을 때 행복할 때 곁에 있어주는 친구가 더 대단한 친구라고 생각합니다', '이것들이 감히 내 앞에서 뭐 하는 짓인지 가상 인물한테 질투를 느끼다니 그것도 내가 만든 인물한테 말이다.', '당신에게 나는 그저 어떤 사람일 뿐이라 그대의 위로가 되고파 안달 나는 이 마음 어떻게 하면 위로로 그대에게 다가갈 수 있을까요', '알긴 할까요 마지막이라는 것을 앞으로 보지 못하는 것을 패 오랜 시간 동안 신은 지금 눈을 감고 있죠 제 앞에 있죠', '약해지고 흔들려 삶이라는 무대에서 모든 것을 포기하고 항복 선언을 해버리고 싶을 때 스스로에게 던져보곤 하는 질문입니다', '가장 말이 안 되는 건 가장 친한 친구였던 사람이 한순간에 가장 익숙한 타인이 되어버렸다는 사실이다.', '힘들 땐 아무것도 하지 말고 나는 무엇을 위해 살고 있는지 또 무엇 때문에 살고 있는지 잘 생각해 봐요.', '하고픈 일을 신나게 해내는 것이야말로 우리가 태어난 이유이기도 하다. 하고 싶지 않은 일을 때려치운다고 해서 너를 비난하는 어른들을 두려워하지 말라는 거다.', '인생은 무슨 사건이 일어났는가에 달린 것이 아니라 일어난 사건에 어떻게 대처하느냐에 달렸다.', '나 혼자만 노력하는 연애라서 그랬던 걸까 이 사람이 계속 내 옆에 있을 거라는 확신이 없는 불안한 연애였어.', '널 알아가면 갈수록 없었던 관심이 생기고 자꾸만 신경이 쓰인다 그러다 보니 어느 순간 너만 보고 있는 내가 너의 앞에 서 있었다', '그만 제발 있는 척 좀 마 아아 No No 이젠 너 같은 남자 아 아 No No 오오오 오오오 더는 못 보겠어', '진짜 친구는 친구하자고 해서 되는 게 아니라 가까이하며 시간을 함께 하다 보면 시나브로 어느샌가 이미 되어 있는 겁니다.', '감사함에 고마움에 감격스러움에. 누군가 나를 진심으로 사랑한다는 것이 절실히 느껴진다는 사실에. 한참을 울고 나면 내가 이렇게나 사랑에 목말라 있었나 싶었다.', '진심으로 좋아하는 사람 앞에서 가장 바보스러운 모습과 행동을 보일 수도 있다. 하지만 때로는 그런 모습이 가장 진실한 것이다.', '잘 가라는 인사도 없이. 내일 보자는 기약도 없이. 돌아서는 너의 뒷모습을 처음 본 오늘 우린 마지막으로 헤어졌다.', '그런데 그다지 좁은 줄도 모르고 날개를 키우는 새 날려 보낼 방도를 모르니 새 한 마리 지울 길 없다.', '담백하게 분류한 하나의 성향으로 인정하고 그 성향대로 살아도 괜찮다는 걸 알아주면 좋겠다.', '새벽부터 또 다른 새벽을 맞기까지 네 마음은 이렇게 열려 있는데 왜 나는 아직도 문밖에서 서성이고 있는 것일까.', '그리고 내가 만약 당신이라면 이렇게 다가서 준 당신을 위해 고백만큼은 내가 먼저 할 거예요.', '쏟아지는 봄비는 우산으로 피할 수 있겠지만 봄비 따라 드는 당신은 무엇으로 피할 수 있을까요.', '이별이란 너와 내가 맺은 관계의 매들을 푸는 일. 치열하게 사랑했던 우리가 이토록 헤어지기 어려운 아유야.', '어머니는 초록 잎이 알록달록 꽃 같으면 가을이라 하고 아버지는 하늘이 높아지면 가을이라 하는데 하늘까지 거리는 어떻게 알아요?', '뒤척이는 까닭이라면 무엇이기보다 누구 때문인 것이 많았고 누구 때문이라면 그것은 대체로 너였다.', '어쩌면 그건 사람일 수도요. 떠남의 설렘이 삶에 머물러서 성큼 행복할 수 있는 우리인걸요.', '네가 만약 똑바른 길을 가는 걸로 비범하게 될 수 없다면 비뚤어진 길을 가는 걸로는 더더욱 그렇게 될 수 없을 거다.', '모든 건 주는 만큼 받는다 타인을 배려하지 않았으면 배려 받을 생각도 하지 마라 타인의 배려만을 원하면 당신은 이기적인 사람이다 아재 글 아재 글', '하지만 가끔 그 조절이 힘든 사람을 만나면 그로 인해 내 인생이 숨을 좀 쉴 수 있을지도 모르겠다.', '웃음은 고통을 지우는 지우개다 병을 없애는 소각제이며 근심 걱정을 덜어 주며 가슴의 한을 내려준다', '어떤 핑계 변명을 대든 간에 넌 날 택하지 않고 다른 사람 다른 일 다른 그 무엇을 택했다.', '제주도든 어디든 예쁜 곳에 가서 예쁜 사진들도 많이 찍고 맛있는 것도 먹고 오자며 손가락 걸고 약속도 한 걸 요.', '내가 하고 싶은 게 무엇인지 매일 생각하고 그것을 위해 눈물과 고통을 감사하는 것은 모든 것이 유한하기 때문이야', '마음이 엉망진창인 날에도 내가 씩씩한 척 아무렇지 않은 척하는 건 그렇게 하지 않으면 부담스러운 누군가의 시선과 행동이 나를 더 힘들게 할 걸 알기에.', '서른을 지나던 시절의 내 모든 것. 함께 있을 때 가장 나다울 수 있는 사람. 그렇게 시간이 흐르고 나는 그의 의미를 완벽히 알게 되었다.', '비 비가 그치면 사라지던 네가 비가 오기만을 기다리고 기다리며 마침내 비가 내렸는데 네가 보이질 않았다.', '진심이란 게 원래 받는 사람이 결정하는 거니까요 아무리 주는 사람이 진심이라 해도 받는 사람이 아니라고 하면 아무것도 아닌 게 되니까요', '좋은 이별이란 없다지만 배려하며 헤어지고 오래도록 여운에 아파하는 것보다 갖은 정 다 떨어지며 헤어지고 기억에서 소멸되어 버리는 그런 이별도 나쁘진 않은 거 같아.', '면 그의 어깨를 두드려준다 면 그에게 난 널 믿는다는 신뢰를 보내준다면 그에게 도 당신에게도 놀라운 삶의 기적이 일어날 것입니다.', '모든 걸 당연하게 여기는 순간 모든 걸 우습게 생각하는 순간 입장이 뒤바뀐 때에는 땅을 치고 후회할 것이다 허지웅 아재 글', '마음 한편에 모질게 구멍을 뚫어 네가 떠날 문을 열어 놓았는데 왜인지 너는 아직도 가지 않는다.', '비 오기를 좋아하고 달 보기를 좋아하고 춥기보다 더운 것이 좋다고 내 좋아하는 것 콕콕 집어 알기에 하나 물었지.', '되면 너는 잠이 든다 곤히 잠든 너의 모습에 행복함을 느낀다 힘이 솟는다 또 하루를 살아간다', '봄이 가고 여름이 가고 가을이 가고 겨울도 간다 우리는 사계절 속에 살고 있다는 것에 축복받은 사람입니다.', '아무리 사는 게 바쁘다 하더라도 내가 무엇을 위해 살아가고 있는지 알아가는 시간을 가져야 합니다.', '무조건 헤어지고 싶다기보단 헤어지는 게 맞는다고 생각했지만 헤어 지자는 마지막 말에도 보고 싶다고 말하는 모습에 어쩌면 헤어지는 게 틀릴 수도 있다고 생각했다 차돌', '하물며 강산도 변하는데 마음이 변하는 건 당연한 것이겠지 아니면 변하지 않는 내가 이상한 거겠지', '또 월요일 아침 날씨도 꿉꿉하고 팔다리도 쑤시고 출근이 싫었는데 카드 결제 예정액 문자메시지 보고 뚜벅뚜벅 무거운 몸을 이끌고 간다']\n"
     ]
    },
    {
     "name": "stderr",
     "output_type": "stream",
     "text": [
      "\n"
     ]
    }
   ],
   "source": [
    "list_splitted = []\n",
    "for item in tqdm(list_long[:100]):\n",
    "    splitted_item = \\\n",
    "        kss.split_sentences(\n",
    "            item, # batch input rather than single string\n",
    "            backend = \"pynori\", # default is pynori. mecab 5x is faster than pynori: https://github.com/hyunwoongko/kss/blob/main/docs/ANALYSIS.md#11-open-ended-segmentation\n",
    "            num_workers = -1, # use maximum workers as possible\n",
    "            use_heuristic = True\n",
    "            )\n",
    "    list_splitted.extend(splitted_item)\n",
    "print(len(list_splitted))\n",
    "print(list_splitted)"
   ]
  },
  {
   "cell_type": "code",
   "execution_count": 35,
   "metadata": {},
   "outputs": [
    {
     "name": "stdout",
     "output_type": "stream",
     "text": [
      "68275 0.8226993938955766\n"
     ]
    },
    {
     "data": {
      "text/plain": [
       "['상대방의 간격을 이해하는 것이 관건이다.\\n',\n",
       " '그곳도 비가 내릴까 빗속에 너도 내려왔다.\\n',\n",
       " '우리 여기까지 왔지\\n',\n",
       " '씩씩했던 다리가 인상 깊어\\n',\n",
       " '골절 불법 사전 중에서..\\n',\n",
       " '계절이 음악처럼\\n',\n",
       " '기회는 준비되어 있는 이들만 볼 수 있습니다\\n',\n",
       " '그월다고 절망할 필요는 없습니다.\\n',\n",
       " '누구나 붙험은 따로 있다.\\n',\n",
       " '그 허무함을 조금이나마 떨쳐버리기 위해 오늘도 최선을 다할 뿐\\n',\n",
       " '비록 자신이 원치 않을 때라도.\\n',\n",
       " '끝없이 혀는 짤리어 굳고\\n',\n",
       " '잘못한 게 없어도 미안하다는 말을 할 수 있으려면 사랑 또는 포기가 필요한 일이거든.\\n',\n",
       " '나를 지으신 이가 하나님\\n',\n",
       " '나만을 바라보며\\n',\n",
       " '그럴 시간에 자리를 털고 일어나 움직이세요.\\n',\n",
       " '사랑은 꼭 초콜릿 같아요.\\n',\n",
       " '고민이 많다는 건 어른이 되어가고 있다는 것 지나간 글\\n',\n",
       " '행복하자 이 한마디 가슴에 품고 살았습니다.\\n',\n",
       " '나의 슬픔이 놓여 있는 곳 그곳은 다른 곳이다.\\n']"
      ]
     },
     "execution_count": 35,
     "metadata": {},
     "output_type": "execute_result"
    }
   ],
   "source": [
    "# get proportion of sentences where length is between 1 and 52\n",
    "min_length = 1\n",
    "max_length = 52\n",
    "list_to_use = list(filter(lambda x: len(x) > min_length and len(x) < max_length, list_loaded))\n",
    "print(len(list_to_use) , len(list_to_use) / len(list_loaded))\n",
    "sampling(list_to_use, 20)"
   ]
  },
  {
   "cell_type": "markdown",
   "metadata": {},
   "source": [
    "### Remove Names from the sentences (Work in Progress)"
   ]
  },
  {
   "cell_type": "code",
   "execution_count": 18,
   "metadata": {},
   "outputs": [
    {
     "data": {
      "text/plain": [
       "[('데일 카네기', 'PERSON'), (' ', 'O'), ('인간관계론', 'THEORY')]"
      ]
     },
     "execution_count": 18,
     "metadata": {},
     "output_type": "execute_result"
    }
   ],
   "source": [
    "# using NER tagging function of pororo: https://kakaobrain.github.io/pororo/tagging/ner.html\n",
    "from pororo import Pororo\n",
    "ner = Pororo(task=\"ner\", lang=\"ko\")\n",
    "pos_tagged = ner('데일 카네기 인간관계론')\n",
    "pos_tagged"
   ]
  },
  {
   "cell_type": "code",
   "execution_count": 19,
   "metadata": {},
   "outputs": [],
   "source": [
    "from tqdm import tqdm\n",
    "from pororo import Pororo\n",
    "ner = Pororo(task=\"ner\", lang=\"ko\")\n",
    "\n",
    "sample_list = [\n",
    "    '감성 조각사 한웅',\n",
    "    '전송됨',\n",
    "    '요즘은 얼리버드라는 할인 상품도 많고',\n",
    "    '널 사랑하는 건 힘들지 않아 사랑하지 않는 게 힘든 거지 차돌',\n",
    "    '어쩌면 세상에서 진실로 두려워해야 하는 것은 눈이 있어도 아름다운 걸 볼 줄 모르고 귀가 있어도 음악을 듣지 않고 또 마음이 있어도 참된 것을 이해하지 못하고 감동하지도 못하며 더구나 가슴속의 열정을 불사르지도 못하는 그런 사람들이 아닐까 구로야나기 테스코  창가의 토토 중에서',\n",
    "]\n",
    "\n",
    "# filter \"PERSON\" tags from the list\n",
    "def filter_person(list_sentences:list) -> list:\n",
    "    \"\"\" takes too long :( \"\"\"\n",
    "    for item in tqdm(list_sentences):\n",
    "        list_pos_tagged = ner(item)\n",
    "        for string, pos_tag in list_pos_tagged:\n",
    "            if pos_tag == \"PERSON\":\n",
    "                list_sentences.remove(item)\n",
    "    return list_sentences\n",
    "\n",
    "# filter_person(sample_list)"
   ]
  },
  {
   "cell_type": "code",
   "execution_count": 20,
   "metadata": {},
   "outputs": [],
   "source": [
    "# check the distribution of the starting character of the list_poetic_sentences\n",
    "# \"가\", \"나\",\"다\" 등 시작하는 글자들에 따른 분포 확인할 필요 있음"
   ]
  }
 ],
 "metadata": {
  "interpreter": {
   "hash": "86cc1fc39ab6acfc9b98d188dcc233e58c381403d84a60c8a993907295df4c51"
  },
  "kernelspec": {
   "display_name": "Python 3.8.3 64-bit ('aitech': pyenv)",
   "language": "python",
   "name": "python3"
  },
  "language_info": {
   "codemirror_mode": {
    "name": "ipython",
    "version": 3
   },
   "file_extension": ".py",
   "mimetype": "text/x-python",
   "name": "python",
   "nbconvert_exporter": "python",
   "pygments_lexer": "ipython3",
   "version": "3.8.3"
  },
  "orig_nbformat": 4
 },
 "nbformat": 4,
 "nbformat_minor": 2
}
