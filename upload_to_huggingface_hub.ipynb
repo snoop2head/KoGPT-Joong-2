{
 "cells": [
  {
   "cell_type": "code",
   "execution_count": null,
   "metadata": {},
   "outputs": [],
   "source": [
    "# https://huggingface.co/transformers/model_sharing.html"
   ]
  }
 ],
 "metadata": {
  "interpreter": {
   "hash": "c49faf493ce549abfe10b2ba130d6685c97f630b223f0053338a01200e3b08a8"
  },
  "kernelspec": {
   "display_name": "Python 3.8.3 64-bit ('korpoet': pyenv)",
   "language": "python",
   "name": "python3"
  },
  "language_info": {
   "codemirror_mode": {
    "name": "ipython",
    "version": 3
   },
   "file_extension": ".py",
   "mimetype": "text/x-python",
   "name": "python",
   "nbconvert_exporter": "python",
   "pygments_lexer": "ipython3",
   "version": "3.8.3"
  },
  "orig_nbformat": 4
 },
 "nbformat": 4,
 "nbformat_minor": 2
}
