{
 "cells": [
  {
   "cell_type": "code",
   "execution_count": null,
   "metadata": {},
   "outputs": [],
   "source": [
    "# https://huggingface.co/transformers/model_sharing.html\n",
    "!huggingface-cli login "
   ]
  },
  {
   "cell_type": "code",
   "execution_count": 1,
   "metadata": {},
   "outputs": [],
   "source": [
    "saved_model_directory = \"/Users/noopy/Documents/BERT-PROJECTS/kor-3-line-poetry/results/checkpoint-18200/\"\n",
    "\n",
    "from transformers import GPT2LMHeadModel\n",
    "\n",
    "# Attach Language model Head to the pretrained GPT model\n",
    "model = GPT2LMHeadModel.from_pretrained(saved_model_directory) # KoGPT3 shares the same structure as KoGPT2. \n"
   ]
  },
  {
   "cell_type": "code",
   "execution_count": 2,
   "metadata": {},
   "outputs": [
    {
     "name": "stderr",
     "output_type": "stream",
     "text": [
      "Several commits (2) will be pushed upstream.\n",
      "The progress bars may be unreliable.\n",
      "Upload file pytorch_model.bin:  35%|███▌      | 1.53G/4.35G [6:50:07<00:04, 749MB/s]"
     ]
    }
   ],
   "source": [
    "model.push_to_hub(\"KoGPT-Joong-2\")"
   ]
  },
  {
   "cell_type": "code",
   "execution_count": null,
   "metadata": {},
   "outputs": [],
   "source": []
  }
 ],
 "metadata": {
  "interpreter": {
   "hash": "c49faf493ce549abfe10b2ba130d6685c97f630b223f0053338a01200e3b08a8"
  },
  "kernelspec": {
   "display_name": "Python 3.8.3 64-bit ('korpoet': pyenv)",
   "language": "python",
   "name": "python3"
  },
  "language_info": {
   "codemirror_mode": {
    "name": "ipython",
    "version": 3
   },
   "file_extension": ".py",
   "mimetype": "text/x-python",
   "name": "python",
   "nbconvert_exporter": "python",
   "pygments_lexer": "ipython3",
   "version": "3.8.3"
  },
  "orig_nbformat": 4
 },
 "nbformat": 4,
 "nbformat_minor": 2
}
